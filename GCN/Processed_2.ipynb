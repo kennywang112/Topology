{
 "cells": [
  {
   "cell_type": "code",
   "execution_count": 1,
   "id": "cbcb330e-af3f-494e-a2a6-4e5f428df70b",
   "metadata": {},
   "outputs": [],
   "source": [
    "import numpy as np\n",
    "import pandas as pd\n",
    "\n",
    "import torch\n",
    "import torch.nn as nn\n",
    "from torch_geometric.nn import GCNConv\n",
    "from torch_geometric.utils import dense_to_sparse, add_self_loops, get_laplacian"
   ]
  },
  {
   "cell_type": "code",
   "execution_count": 60,
   "id": "3ada60a4-d5d4-480a-a5fe-53af1e394c8b",
   "metadata": {},
   "outputs": [],
   "source": [
    "Traffic = pd.read_csv(\"data/traffic.csv\")\n",
    "Adjacency = np.load('data/Adjacency.npy')"
   ]
  },
  {
   "cell_type": "code",
   "execution_count": 61,
   "id": "6c247691-53bd-49bb-9ef6-f254310227e1",
   "metadata": {},
   "outputs": [],
   "source": [
    "# Convert adjacency matrix to PyTorch tensor and normalize it\n",
    "adj_matrix = torch.tensor(Adjacency, dtype=torch.float)\n",
    "adj_matrix += torch.eye(adj_matrix.size(0))\n",
    "degree_matrix = adj_matrix.sum(dim=1)\n",
    "d_inv_sqrt = torch.diag(degree_matrix.pow(-0.5))\n",
    "adj_matrix_norm = d_inv_sqrt @ adj_matrix @ d_inv_sqrt\n",
    "edge_index, edge_weight = dense_to_sparse(adj_matrix_norm)"
   ]
  },
  {
   "cell_type": "code",
   "execution_count": 63,
   "id": "f27d8aa5-a786-41fe-89cc-b4d41e1fbbca",
   "metadata": {},
   "outputs": [],
   "source": [
    "time_steps = Traffic['timestep'].nunique()\n",
    "num_locations = Traffic['location'].nunique()\n",
    "\n",
    "all_features = torch.tensor(Traffic[['occupy', 'speed']].values, dtype=torch.float)\n",
    "feature_mean = all_features.mean(dim=0)\n",
    "feature_std = all_features.std(dim=0)\n",
    "\n",
    "all_labels = torch.tensor(Traffic['flow'].values, dtype=torch.float)\n",
    "label_mean = all_labels.mean()\n",
    "label_std = all_labels.std()\n",
    "\n",
    "node_features_per_time = []\n",
    "labels_per_time = []"
   ]
  },
  {
   "cell_type": "code",
   "execution_count": 64,
   "id": "80d0449b-338a-4a11-9a0f-93a8dd169cf4",
   "metadata": {},
   "outputs": [],
   "source": [
    "for timestep in range(1, time_steps + 1):\n",
    "    timestep_data = Traffic[Traffic['timestep'] == timestep]\n",
    "    features = torch.tensor(timestep_data[['occupy', 'speed']].values, dtype=torch.float)\n",
    "    labels = torch.tensor(timestep_data['flow'].values, dtype=torch.float)\n",
    "    \n",
    "    features = (features - feature_mean) / feature_std\n",
    "    labels = (labels - label_mean) / label_std\n",
    "\n",
    "    node_features_per_time.append(features)\n",
    "    labels_per_time.append(labels)"
   ]
  },
  {
   "cell_type": "code",
   "execution_count": 65,
   "id": "03a3247a-ccd6-44aa-82f2-9fc72e98c2bb",
   "metadata": {},
   "outputs": [],
   "source": [
    "# Sliding window (12 steps)\n",
    "window_size = 12\n",
    "node_features_sliding = []\n",
    "labels_sliding = []\n",
    "\n",
    "for i in range(time_steps - window_size):\n",
    "    node_features_sliding.append(torch.stack(node_features_per_time[i:i + window_size]))\n",
    "    labels_sliding.append(labels_per_time[i + window_size])\n",
    "\n",
    "node_features_sliding = torch.stack(node_features_sliding)  # Shape: (num_samples, window_size, num_nodes, num_features)\n",
    "labels_sliding = torch.stack(labels_sliding)  # Shape: (num_samples, num_nodes)"
   ]
  },
  {
   "cell_type": "code",
   "execution_count": 69,
   "id": "7bb0c519-d857-46a4-97ce-04c2ce56ed95",
   "metadata": {},
   "outputs": [],
   "source": [
    "# Model definition\n",
    "class SpatioTemporalGNN(nn.Module):\n",
    "    def __init__(self, in_channels, hidden_channels, out_channels):\n",
    "        super(SpatioTemporalGNN, self).__init__()\n",
    "        self.gcn = GCNConv(in_channels, hidden_channels)\n",
    "        self.lstm = nn.LSTM(hidden_channels, hidden_channels, batch_first=True)\n",
    "        self.fc = nn.Linear(hidden_channels, out_channels)\n",
    "\n",
    "    def forward(self, x, edge_index, edge_weight):\n",
    "        batch_size, time_steps, num_nodes, in_channels = x.size()\n",
    "        outputs = []\n",
    "\n",
    "        edge_index_batch, edge_weight_batch = self._batch_edge_index(edge_index, edge_weight, num_nodes, batch_size)\n",
    "\n",
    "        for t in range(time_steps):\n",
    "            x_t = x[:, t, :, :].reshape(batch_size * num_nodes, in_channels)\n",
    "            x_t = torch.relu(self.gcn(x_t, edge_index_batch, edge_weight_batch))\n",
    "            x_t = x_t.view(batch_size, num_nodes, -1)\n",
    "            outputs.append(x_t)\n",
    "\n",
    "        x = torch.stack(outputs, dim=1)\n",
    "        x = x.view(batch_size * num_nodes, time_steps, -1)\n",
    "        x, _ = self.lstm(x)\n",
    "        x = x[:, -1, :]\n",
    "        x = x.view(batch_size, num_nodes, -1)\n",
    "        x = self.fc(x)\n",
    "        return x\n",
    "\n",
    "    def _batch_edge_index(self, edge_index, edge_weight, num_nodes, batch_size):\n",
    "        edge_indices = []\n",
    "        edge_weights = []\n",
    "        for i in range(batch_size):\n",
    "            offset = i * num_nodes\n",
    "            edge_indices.append(edge_index + offset)\n",
    "            edge_weights.append(edge_weight)\n",
    "        edge_index_batch = torch.cat(edge_indices, dim=1)\n",
    "        edge_weight_batch = torch.cat(edge_weights)\n",
    "        return edge_index_batch, edge_weight_batch"
   ]
  },
  {
   "cell_type": "code",
   "execution_count": 71,
   "id": "ddd06fcf-c09b-4634-93c2-3928075976c3",
   "metadata": {},
   "outputs": [],
   "source": [
    "# Model initialization\n",
    "in_channels = node_features_sliding.shape[3]\n",
    "hidden_channels = 16\n",
    "out_channels = 1\n",
    "model = SpatioTemporalGNN(in_channels, hidden_channels, out_channels)\n",
    "\n",
    "loss_fn = torch.nn.MSELoss()\n",
    "optimizer = torch.optim.Adam(model.parameters(), lr=0.01)\n",
    "epochs = 100\n",
    "\n",
    "# Training\n",
    "losses = []"
   ]
  },
  {
   "cell_type": "code",
   "execution_count": null,
   "id": "b078ba27-ad44-4883-b183-05fb44023818",
   "metadata": {},
   "outputs": [],
   "source": [
    "for epoch in range(epochs):\n",
    "    model.train()\n",
    "    optimizer.zero_grad()\n",
    "    output = model(node_features_sliding, edge_index, edge_weight)\n",
    "    loss = loss_fn(output.squeeze(), labels_sliding)\n",
    "    loss.backward()\n",
    "    optimizer.step()\n",
    "    losses.append(loss.item())\n",
    "    print(f\"Epoch {epoch + 1}, Loss: {loss.item():.4f}\")"
   ]
  },
  {
   "cell_type": "code",
   "execution_count": null,
   "id": "cba2f9a9-ec0e-4310-96f1-39c9f1dfb455",
   "metadata": {},
   "outputs": [],
   "source": [
    "# Visualization of Loss\n",
    "plt.plot(losses)\n",
    "plt.xlabel('Epoch')\n",
    "plt.ylabel('Loss')\n",
    "plt.title('Training Loss')\n",
    "plt.show()"
   ]
  }
 ],
 "metadata": {
  "kernelspec": {
   "display_name": "Python 3 (ipykernel)",
   "language": "python",
   "name": "python3"
  },
  "language_info": {
   "codemirror_mode": {
    "name": "ipython",
    "version": 3
   },
   "file_extension": ".py",
   "mimetype": "text/x-python",
   "name": "python",
   "nbconvert_exporter": "python",
   "pygments_lexer": "ipython3",
   "version": "3.10.6"
  }
 },
 "nbformat": 4,
 "nbformat_minor": 5
}
