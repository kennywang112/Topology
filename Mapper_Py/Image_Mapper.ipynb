{
 "cells": [
  {
   "cell_type": "code",
   "execution_count": 2,
   "id": "18d92c40-47f2-4cf8-bb8a-8672d502efe8",
   "metadata": {},
   "outputs": [],
   "source": [
    "import numpy as np\n",
    "import gudhi as gd\n",
    "import pandas as pd\n",
    "\n",
    "import matplotlib.pyplot as plt\n",
    "from sklearn.decomposition import PCA\n",
    "from sklearn.cluster import AgglomerativeClustering\n",
    "from sklearn.datasets import load_digits\n",
    "\n",
    "from tdamapper.cover import CubicalCover\n",
    "from tdamapper.core import MapperAlgorithm\n",
    "from tdamapper.plot import MapperLayoutInteractive\n",
    "from sklearn.preprocessing import StandardScaler\n",
    "from tdamapper.clustering import FailSafeClustering"
   ]
  },
  {
   "cell_type": "code",
   "execution_count": 3,
   "id": "71006a00-484b-4421-b5ae-f5df89fb2835",
   "metadata": {},
   "outputs": [],
   "source": [
    "X, y = load_digits(return_X_y=True)"
   ]
  },
  {
   "cell_type": "code",
   "execution_count": 4,
   "id": "479d40cf-d0ae-44ca-855f-c5ba9fa6722e",
   "metadata": {},
   "outputs": [
    {
     "data": {
      "image/png": "[encoded data removed]",
      "text/plain": [
       "<Figure size 1000x400 with 10 Axes>"
      ]
     },
     "metadata": {},
     "output_type": "display_data"
    }
   ],
   "source": [
    "plt.figure(figsize=(10, 4))\n",
    "\n",
    "for i in range(10):\n",
    "    plt.subplot(2, 5, i + 1)\n",
    "    plt.imshow(X[i].reshape(8, 8), cmap='gray')\n",
    "    plt.title(f'Label: {y[i]}') \n",
    "    plt.axis('off')\n",
    "\n",
    "plt.tight_layout()\n",
    "plt.show()"
   ]
  },
  {
   "cell_type": "code",
   "execution_count": null,
   "id": "48ccb768-f70a-45dd-9d7c-d1c61db5180d",
   "metadata": {},
   "outputs": [],
   "source": [
    "lens = PCA(2).fit_transform(X)\n",
    "\n",
    "mapper_algo = MapperAlgorithm(\n",
    "    cover=CubicalCover(\n",
    "        n_intervals=10,\n",
    "        overlap_frac=0.65),\n",
    "    clustering = FailSafeClustering(\n",
    "        clustering = AgglomerativeClustering(10, linkage='ward'),\n",
    "        verbose = False)\n",
    ")\n",
    "mapper_graph = mapper_algo.fit_transform(X, lens)\n",
    "\n",
    "mapper_plot = MapperLayoutInteractive(\n",
    "    mapper_graph,\n",
    "    colors=y,                       \n",
    "    cmap='jet',\n",
    "    agg=np.nanmean,\n",
    "    dim=3,\n",
    "    iterations=400,\n",
    "    seed=42,\n",
    "    title='digit (mean)',\n",
    "    width=600,\n",
    "    height=600)\n",
    "\n",
    "fig_mean1 = mapper_plot.plot()\n",
    "fig_mean1.show(config={'scrollZoom': True})"
   ]
  }
 ],
 "metadata": {
  "kernelspec": {
   "display_name": "Python 3 (ipykernel)",
   "language": "python",
   "name": "python3"
  },
  "language_info": {
   "codemirror_mode": {
    "name": "ipython",
    "version": 3
   },
   "file_extension": ".py",
   "mimetype": "text/x-python",
   "name": "python",
   "nbconvert_exporter": "python",
   "pygments_lexer": "ipython3",
   "version": "3.9.12"
  }
 },
 "nbformat": 4,
 "nbformat_minor": 5
}
