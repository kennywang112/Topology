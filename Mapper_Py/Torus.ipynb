{
 "cells": [
  {
   "cell_type": "code",
   "execution_count": 2,
   "id": "f6e8d990-d2d4-43e9-953c-a4a3787ad4c4",
   "metadata": {},
   "outputs": [],
   "source": [
    "# pip install tda-mapper tadasets plotly gudhi"
   ]
  },
  {
   "cell_type": "code",
   "execution_count": 2,
   "id": "fa0b6464-5ab2-4d06-98a6-ebf86af9d31b",
   "metadata": {},
   "outputs": [],
   "source": [
    "import numpy as np\n",
    "import gudhi as gd\n",
    "import pandas as pd\n",
    "import gudhi.representations\n",
    "from tadasets import torus\n",
    "\n",
    "import matplotlib.pyplot as plt\n",
    "import plotly.graph_objs as go\n",
    "import plotly.express as px\n",
    "\n",
    "from sklearn.decomposition import PCA\n",
    "from sklearn.cluster import DBSCAN\n",
    "\n",
    "from tdamapper.core import MapperAlgorithm\n",
    "from tdamapper.cover import CubicalCover\n",
    "from tdamapper.plot import MapperLayoutInteractive"
   ]
  },
  {
   "cell_type": "code",
   "execution_count": 3,
   "id": "8f684c01-88ce-4275-a5f5-e2aff44478cf",
   "metadata": {},
   "outputs": [],
   "source": [
    "data_torus = torus(n=1500, c=3, a=1)\n",
    "\n",
    "# fig = go.Figure(data=[go.Scatter3d(\n",
    "#     x=data_torus[:,0],\n",
    "#     y=data_torus[:,1],\n",
    "#     z=data_torus[:,2],\n",
    "#     mode='markers',\n",
    "#     marker=dict(\n",
    "#         size=2,\n",
    "#         color=data_torus[:,2],  # 以z軸值為顏色\n",
    "#         colorscale='Viridis',\n",
    "#         opacity=0.8\n",
    "#     )\n",
    "# )])\n",
    "\n",
    "# fig.update_layout(\n",
    "#     scene = dict(\n",
    "#         xaxis_title='X Label',\n",
    "#         yaxis_title='Y Label',\n",
    "#         zaxis_title='Z Label'\n",
    "#     ),\n",
    "#     width=700,\n",
    "#     margin=dict(r=20, b=10, l=10, t=10)\n",
    "# )\n",
    "\n",
    "# fig.show()"
   ]
  },
  {
   "cell_type": "code",
   "execution_count": 4,
   "id": "8384d890-0067-4e0c-8367-a10d9f9768f1",
   "metadata": {},
   "outputs": [],
   "source": [
    "lens = PCA(2).fit_transform(data_torus)\n",
    "\n",
    "mapper_algo = MapperAlgorithm(\n",
    "    cover=CubicalCover(\n",
    "        n_intervals=10,\n",
    "        overlap_frac=0.3),\n",
    "    clustering=DBSCAN())\n",
    "mapper_graph = mapper_algo.fit_transform(data_torus, lens)\n",
    "\n",
    "mapper_plot = MapperLayoutInteractive(\n",
    "    mapper_graph,\n",
    "    colors=data_torus[:, 0],\n",
    "    cmap='jet',\n",
    "    agg=np.nanmean,\n",
    "    dim=3,\n",
    "    iterations=60,\n",
    "    seed=42,\n",
    "    width=600,\n",
    "    height=600)\n",
    "\n",
    "# fig_mean1 = mapper_plot.plot()\n",
    "# fig_mean1.show(config={'scrollZoom': True})"
   ]
  },
  {
   "cell_type": "markdown",
   "id": "242cdc0c-784a-4425-ad22-7dd5a5255a7c",
   "metadata": {},
   "source": [
    "## 建立Mapper每個node的資訊"
   ]
  },
  {
   "cell_type": "code",
   "execution_count": 5,
   "id": "12501cb4-829e-407a-be63-3663b679688a",
   "metadata": {},
   "outputs": [],
   "source": [
    "x = vars(mapper_plot._MapperLayoutInteractive__fig)['_data_objs'][1]['x']\n",
    "y = vars(mapper_plot._MapperLayoutInteractive__fig)['_data_objs'][1]['y']\n",
    "z = vars(mapper_plot._MapperLayoutInteractive__fig)['_data_objs'][1]['z']\n",
    "\n",
    "threeDimData = pd.DataFrame({'x': x, 'y': y, 'z': z})\n",
    "\n",
    "import re\n",
    "data_tuple = vars(mapper_plot._MapperLayoutInteractive__fig)['_data_objs'][1]['text']\n",
    "\n",
    "data = []\n",
    "for item in data_tuple:\n",
    "    color = int(re.search(r'color: (-?\\d+)', item).group(1))\n",
    "    node = int(re.search(r'node: (\\d+)', item).group(1))\n",
    "    size = int(re.search(r'size: (\\d+)', item).group(1))\n",
    "    data.append({'color': color, 'node': node, 'size': size})\n",
    "component_info = pd.DataFrame(data)\n",
    "\n",
    "full_info = pd.concat([component_info, threeDimData], axis=1)\n",
    "\n",
    "mp_content_origin = vars(mapper_plot._MapperLayoutInteractive__graph)['_node']\n",
    "\n",
    "mp_content = pd.DataFrame.from_dict(mp_content_origin, orient='index')\n",
    "mp_content.reset_index(inplace=True)\n",
    "mp_content.rename(columns={'index': 'node'}, inplace=True)\n",
    "\n",
    "full_info = pd.merge(full_info, mp_content, on=['node', 'size'], how='inner')"
   ]
  },
  {
   "cell_type": "code",
   "execution_count": 5,
   "id": "18c6051d-fd9d-4729-b4af-3c78a9390a82",
   "metadata": {},
   "outputs": [
    {
     "data": {
      "text/html": [
       "<div>\n",
       "<style scoped>\n",
       "    .dataframe tbody tr th:only-of-type {\n",
       "        vertical-align: middle;\n",
       "    }\n",
       "\n",
       "    .dataframe tbody tr th {\n",
       "        vertical-align: top;\n",
       "    }\n",
       "\n",
       "    .dataframe thead th {\n",
       "        text-align: right;\n",
       "    }\n",
       "</style>\n",
       "<table border=\"1\" class=\"dataframe\">\n",
       "  <thead>\n",
       "    <tr style=\"text-align: right;\">\n",
       "      <th></th>\n",
       "      <th>color</th>\n",
       "      <th>node</th>\n",
       "      <th>size</th>\n",
       "      <th>x</th>\n",
       "      <th>y</th>\n",
       "      <th>z</th>\n",
       "      <th>ids</th>\n",
       "    </tr>\n",
       "  </thead>\n",
       "  <tbody>\n",
       "    <tr>\n",
       "      <th>0</th>\n",
       "      <td>-2</td>\n",
       "      <td>0</td>\n",
       "      <td>14</td>\n",
       "      <td>0.033472</td>\n",
       "      <td>-0.740029</td>\n",
       "      <td>0.202435</td>\n",
       "      <td>[0, 1, 88, 612, 676, 757, 846, 1009, 1014, 114...</td>\n",
       "    </tr>\n",
       "    <tr>\n",
       "      <th>1</th>\n",
       "      <td>-2</td>\n",
       "      <td>73</td>\n",
       "      <td>16</td>\n",
       "      <td>0.153827</td>\n",
       "      <td>-0.631377</td>\n",
       "      <td>0.181617</td>\n",
       "      <td>[0, 271, 389, 393, 474, 523, 590, 621, 763, 82...</td>\n",
       "    </tr>\n",
       "    <tr>\n",
       "      <th>2</th>\n",
       "      <td>-3</td>\n",
       "      <td>18</td>\n",
       "      <td>29</td>\n",
       "      <td>-0.015320</td>\n",
       "      <td>-0.858098</td>\n",
       "      <td>0.238118</td>\n",
       "      <td>[1, 14, 121, 133, 158, 168, 237, 280, 365, 391...</td>\n",
       "    </tr>\n",
       "    <tr>\n",
       "      <th>3</th>\n",
       "      <td>-3</td>\n",
       "      <td>58</td>\n",
       "      <td>36</td>\n",
       "      <td>-0.094396</td>\n",
       "      <td>-0.817995</td>\n",
       "      <td>0.201084</td>\n",
       "      <td>[1, 88, 92, 93, 145, 157, 168, 222, 237, 263, ...</td>\n",
       "    </tr>\n",
       "    <tr>\n",
       "      <th>4</th>\n",
       "      <td>-3</td>\n",
       "      <td>91</td>\n",
       "      <td>19</td>\n",
       "      <td>0.081207</td>\n",
       "      <td>-0.767066</td>\n",
       "      <td>0.261212</td>\n",
       "      <td>[1, 207, 269, 286, 317, 387, 678, 750, 911, 94...</td>\n",
       "    </tr>\n",
       "    <tr>\n",
       "      <th>...</th>\n",
       "      <td>...</td>\n",
       "      <td>...</td>\n",
       "      <td>...</td>\n",
       "      <td>...</td>\n",
       "      <td>...</td>\n",
       "      <td>...</td>\n",
       "      <td>...</td>\n",
       "    </tr>\n",
       "    <tr>\n",
       "      <th>108</th>\n",
       "      <td>2</td>\n",
       "      <td>99</td>\n",
       "      <td>10</td>\n",
       "      <td>0.853825</td>\n",
       "      <td>0.529160</td>\n",
       "      <td>0.167048</td>\n",
       "      <td>[401, 408, 667, 717, 899, 959, 1002, 1060, 135...</td>\n",
       "    </tr>\n",
       "    <tr>\n",
       "      <th>109</th>\n",
       "      <td>2</td>\n",
       "      <td>100</td>\n",
       "      <td>13</td>\n",
       "      <td>0.768543</td>\n",
       "      <td>0.507020</td>\n",
       "      <td>0.284068</td>\n",
       "      <td>[449, 782, 793, 803, 868, 886, 910, 955, 1114,...</td>\n",
       "    </tr>\n",
       "    <tr>\n",
       "      <th>110</th>\n",
       "      <td>3</td>\n",
       "      <td>44</td>\n",
       "      <td>12</td>\n",
       "      <td>0.522101</td>\n",
       "      <td>0.855564</td>\n",
       "      <td>0.097279</td>\n",
       "      <td>[488, 769, 844, 877, 924, 1061, 1110, 1171, 11...</td>\n",
       "    </tr>\n",
       "    <tr>\n",
       "      <th>111</th>\n",
       "      <td>-2</td>\n",
       "      <td>107</td>\n",
       "      <td>8</td>\n",
       "      <td>-0.338832</td>\n",
       "      <td>-0.774993</td>\n",
       "      <td>0.084423</td>\n",
       "      <td>[494, 519, 925, 977, 1036, 1270, 1299, 1412]</td>\n",
       "    </tr>\n",
       "    <tr>\n",
       "      <th>112</th>\n",
       "      <td>0</td>\n",
       "      <td>17</td>\n",
       "      <td>9</td>\n",
       "      <td>0.745592</td>\n",
       "      <td>-0.088371</td>\n",
       "      <td>0.229240</td>\n",
       "      <td>[583, 645, 954, 1072, 1150, 1220, 1226, 1289, ...</td>\n",
       "    </tr>\n",
       "  </tbody>\n",
       "</table>\n",
       "<p>113 rows × 7 columns</p>\n",
       "</div>"
      ],
      "text/plain": [
       "     color  node  size         x         y         z  \\\n",
       "0       -2     0    14  0.033472 -0.740029  0.202435   \n",
       "1       -2    73    16  0.153827 -0.631377  0.181617   \n",
       "2       -3    18    29 -0.015320 -0.858098  0.238118   \n",
       "3       -3    58    36 -0.094396 -0.817995  0.201084   \n",
       "4       -3    91    19  0.081207 -0.767066  0.261212   \n",
       "..     ...   ...   ...       ...       ...       ...   \n",
       "108      2    99    10  0.853825  0.529160  0.167048   \n",
       "109      2   100    13  0.768543  0.507020  0.284068   \n",
       "110      3    44    12  0.522101  0.855564  0.097279   \n",
       "111     -2   107     8 -0.338832 -0.774993  0.084423   \n",
       "112      0    17     9  0.745592 -0.088371  0.229240   \n",
       "\n",
       "                                                   ids  \n",
       "0    [0, 1, 88, 612, 676, 757, 846, 1009, 1014, 114...  \n",
       "1    [0, 271, 389, 393, 474, 523, 590, 621, 763, 82...  \n",
       "2    [1, 14, 121, 133, 158, 168, 237, 280, 365, 391...  \n",
       "3    [1, 88, 92, 93, 145, 157, 168, 222, 237, 263, ...  \n",
       "4    [1, 207, 269, 286, 317, 387, 678, 750, 911, 94...  \n",
       "..                                                 ...  \n",
       "108  [401, 408, 667, 717, 899, 959, 1002, 1060, 135...  \n",
       "109  [449, 782, 793, 803, 868, 886, 910, 955, 1114,...  \n",
       "110  [488, 769, 844, 877, 924, 1061, 1110, 1171, 11...  \n",
       "111       [494, 519, 925, 977, 1036, 1270, 1299, 1412]  \n",
       "112  [583, 645, 954, 1072, 1150, 1220, 1226, 1289, ...  \n",
       "\n",
       "[113 rows x 7 columns]"
      ]
     },
     "execution_count": 5,
     "metadata": {},
     "output_type": "execute_result"
    }
   ],
   "source": [
    "full_info"
   ]
  },
  {
   "cell_type": "code",
   "execution_count": 6,
   "id": "fffd4a3b-778f-4889-9ded-bc63313e1678",
   "metadata": {},
   "outputs": [
    {
     "data": {
      "text/plain": [
       "array([[-2.59633889, -1.12909811],\n",
       "       [-3.46528087, -1.09872293],\n",
       "       [ 2.87391457, -1.41961734],\n",
       "       ...,\n",
       "       [ 1.49139607,  1.55396543],\n",
       "       [-1.45067172, -3.600206  ],\n",
       "       [ 0.78593419,  1.8614787 ]])"
      ]
     },
     "execution_count": 6,
     "metadata": {},
     "output_type": "execute_result"
    }
   ],
   "source": [
    "data_torus[:, :2]"
   ]
  },
  {
   "cell_type": "markdown",
   "id": "cc395b8e-cfdb-4179-8591-9c90580ad3a6",
   "metadata": {},
   "source": [
    "### 兩筆分別帶入points，可以分段了解Torus的架構，為什麼他有兩個hole，為什麼整筆資料有一個2-simplex"
   ]
  },
  {
   "cell_type": "code",
   "execution_count": 1,
   "id": "cb737b65-882d-44f8-b60a-dc7af611fd69",
   "metadata": {},
   "outputs": [],
   "source": [
    "# data_torus[:, :2]\n",
    "# data_torus[:, 1:3]"
   ]
  },
  {
   "cell_type": "code",
   "execution_count": 6,
   "id": "3f3b2354-b0d4-47df-8292-08d0e077546e",
   "metadata": {},
   "outputs": [
    {
     "name": "stderr",
     "output_type": "stream",
     "text": [
      "usetex mode requires TeX.\n"
     ]
    },
    {
     "data": {
      "text/plain": [
       "<AxesSubplot: title={'center': 'Persistence diagram'}, xlabel='Birth', ylabel='Death'>"
      ]
     },
     "execution_count": 6,
     "metadata": {},
     "output_type": "execute_result"
    },
    {
     "data": {
      "image/png": "[encoded data removed]",
      "text/plain": [
       "<Figure size 640x480 with 1 Axes>"
      ]
     },
     "metadata": {},
     "output_type": "display_data"
    }
   ],
   "source": [
    "plt.rcParams['text.usetex'] = False\n",
    "alpha_complex = gd.AlphaComplex(points=data_torus).create_simplex_tree()\n",
    "# 計算持久\n",
    "diag = alpha_complex.persistence()\n",
    "\n",
    "gd.plot_persistence_diagram(diag)"
   ]
  },
  {
   "cell_type": "code",
   "execution_count": 7,
   "id": "bd1b0ad3-6bf8-43c2-9783-e3c2121b3a6a",
   "metadata": {},
   "outputs": [
    {
     "data": {
      "text/plain": [
       "array([[0.00025004, 0.00153527, 0.00455467, ..., 0.        , 0.        ,\n",
       "        0.        ]])"
      ]
     },
     "execution_count": 7,
     "metadata": {},
     "output_type": "execute_result"
    }
   ],
   "source": [
    "LS = gd.representations.Landscape(resolution=1000)\n",
    "L = LS.fit_transform([alpha_complex.persistence_intervals_in_dimension(1)])\n",
    "L"
   ]
  },
  {
   "cell_type": "code",
   "execution_count": 8,
   "id": "c52a78df-04df-467a-8e52-61c7723b9256",
   "metadata": {},
   "outputs": [
    {
     "data": {
      "image/png": "[encoded data removed]",
      "text/plain": [
       "<Figure size 640x480 with 1 Axes>"
      ]
     },
     "metadata": {},
     "output_type": "display_data"
    }
   ],
   "source": [
    "plt.plot(L[0][:1000])\n",
    "plt.plot(L[0][:2000])\n",
    "plt.show()"
   ]
  }
 ],
 "metadata": {
  "kernelspec": {
   "display_name": "Python 3 (ipykernel)",
   "language": "python",
   "name": "python3"
  },
  "language_info": {
   "codemirror_mode": {
    "name": "ipython",
    "version": 3
   },
   "file_extension": ".py",
   "mimetype": "text/x-python",
   "name": "python",
   "nbconvert_exporter": "python",
   "pygments_lexer": "ipython3",
   "version": "3.9.12"
  }
 },
 "nbformat": 4,
 "nbformat_minor": 5
}
