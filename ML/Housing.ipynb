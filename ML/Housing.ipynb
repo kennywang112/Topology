{
 "cells": [
  {
   "cell_type": "markdown",
   "id": "49ee9994-c204-487d-b4f9-fc95d0461f10",
   "metadata": {},
   "source": [
    "# Struggling with the computation complexity"
   ]
  },
  {
   "cell_type": "code",
   "execution_count": 1,
   "id": "4c2adab9-b194-496b-8d0b-550d01a79f0f",
   "metadata": {},
   "outputs": [],
   "source": [
    "import numpy as np\n",
    "import pandas as pd\n",
    "import ripser\n",
    "from persim.persistent_entropy import *\n",
    "from sklearn.model_selection import train_test_split\n",
    "from sklearn.preprocessing import StandardScaler\n",
    "from sklearn.datasets import fetch_california_housing\n",
    "from sklearn.linear_model import LinearRegression\n",
    "from sklearn.metrics import r2_score, mean_squared_error\n",
    "from sklearn.neighbors import NearestNeighbors"
   ]
  },
  {
   "cell_type": "code",
   "execution_count": 12,
   "id": "802291b0-0e9f-461b-a691-c7dd332c78aa",
   "metadata": {},
   "outputs": [],
   "source": [
    "import ssl\n",
    "ssl._create_default_https_context = ssl._create_unverified_context\n",
    "\n",
    "housing = fetch_california_housing()\n",
    "\n",
    "X_all = pd.DataFrame(housing.data, columns = housing.feature_names)\n",
    "y_all = housing['target']\n",
    "\n",
    "X, _, y, _ = train_test_split(X_all, y_all, train_size=5000, random_state=42)\n",
    "\n",
    "X = X.reset_index(drop=True)\n",
    "y = pd.Series(y).reset_index(drop=True)"
   ]
  },
  {
   "cell_type": "code",
   "execution_count": 31,
   "id": "5c5bd88d-7a3f-4cfb-aa4f-6f793dee237b",
   "metadata": {},
   "outputs": [
    {
     "data": {
      "text/html": [
       "<div>\n",
       "<style scoped>\n",
       "    .dataframe tbody tr th:only-of-type {\n",
       "        vertical-align: middle;\n",
       "    }\n",
       "\n",
       "    .dataframe tbody tr th {\n",
       "        vertical-align: top;\n",
       "    }\n",
       "\n",
       "    .dataframe thead th {\n",
       "        text-align: right;\n",
       "    }\n",
       "</style>\n",
       "<table border=\"1\" class=\"dataframe\">\n",
       "  <thead>\n",
       "    <tr style=\"text-align: right;\">\n",
       "      <th></th>\n",
       "      <th>MedInc</th>\n",
       "      <th>HouseAge</th>\n",
       "      <th>AveRooms</th>\n",
       "      <th>AveBedrms</th>\n",
       "      <th>Population</th>\n",
       "      <th>AveOccup</th>\n",
       "      <th>Latitude</th>\n",
       "      <th>Longitude</th>\n",
       "    </tr>\n",
       "  </thead>\n",
       "  <tbody>\n",
       "    <tr>\n",
       "      <th>0</th>\n",
       "      <td>-1.165910</td>\n",
       "      <td>-1.070219</td>\n",
       "      <td>-0.262989</td>\n",
       "      <td>0.076520</td>\n",
       "      <td>0.188266</td>\n",
       "      <td>-0.388556</td>\n",
       "      <td>3.032089</td>\n",
       "      <td>-2.403671</td>\n",
       "    </tr>\n",
       "    <tr>\n",
       "      <th>1</th>\n",
       "      <td>-0.897428</td>\n",
       "      <td>-1.630627</td>\n",
       "      <td>-0.274419</td>\n",
       "      <td>-0.147923</td>\n",
       "      <td>-0.197086</td>\n",
       "      <td>0.760507</td>\n",
       "      <td>0.137286</td>\n",
       "      <td>0.124272</td>\n",
       "    </tr>\n",
       "    <tr>\n",
       "      <th>2</th>\n",
       "      <td>0.319184</td>\n",
       "      <td>-1.150277</td>\n",
       "      <td>0.576531</td>\n",
       "      <td>-0.167376</td>\n",
       "      <td>0.656260</td>\n",
       "      <td>-0.025571</td>\n",
       "      <td>1.430298</td>\n",
       "      <td>-1.674849</td>\n",
       "    </tr>\n",
       "    <tr>\n",
       "      <th>3</th>\n",
       "      <td>0.532011</td>\n",
       "      <td>-1.870802</td>\n",
       "      <td>0.151656</td>\n",
       "      <td>-0.093335</td>\n",
       "      <td>-0.182229</td>\n",
       "      <td>0.175792</td>\n",
       "      <td>1.078097</td>\n",
       "      <td>-0.808417</td>\n",
       "    </tr>\n",
       "    <tr>\n",
       "      <th>4</th>\n",
       "      <td>-1.337464</td>\n",
       "      <td>-0.830044</td>\n",
       "      <td>-0.307826</td>\n",
       "      <td>-0.017700</td>\n",
       "      <td>-0.012302</td>\n",
       "      <td>2.003783</td>\n",
       "      <td>-1.411434</td>\n",
       "      <td>1.230247</td>\n",
       "    </tr>\n",
       "  </tbody>\n",
       "</table>\n",
       "</div>"
      ],
      "text/plain": [
       "     MedInc  HouseAge  AveRooms  AveBedrms  Population  AveOccup  Latitude  \\\n",
       "0 -1.165910 -1.070219 -0.262989   0.076520    0.188266 -0.388556  3.032089   \n",
       "1 -0.897428 -1.630627 -0.274419  -0.147923   -0.197086  0.760507  0.137286   \n",
       "2  0.319184 -1.150277  0.576531  -0.167376    0.656260 -0.025571  1.430298   \n",
       "3  0.532011 -1.870802  0.151656  -0.093335   -0.182229  0.175792  1.078097   \n",
       "4 -1.337464 -0.830044 -0.307826  -0.017700   -0.012302  2.003783 -1.411434   \n",
       "\n",
       "   Longitude  \n",
       "0  -2.403671  \n",
       "1   0.124272  \n",
       "2  -1.674849  \n",
       "3  -0.808417  \n",
       "4   1.230247  "
      ]
     },
     "execution_count": 31,
     "metadata": {},
     "output_type": "execute_result"
    }
   ],
   "source": [
    "scaler = StandardScaler()\n",
    "scaler.fit(X)\n",
    "X = pd.DataFrame(scaler.transform(X), index= X.index, columns= X.columns)\n",
    "X_final = X.iloc[:, :8].to_numpy()\n",
    "\n",
    "X.iloc[:, :8].head()"
   ]
  },
  {
   "cell_type": "code",
   "execution_count": 28,
   "id": "de9be255-f7e1-41a4-8c70-ef2064069de5",
   "metadata": {},
   "outputs": [
    {
     "name": "stdout",
     "output_type": "stream",
     "text": [
      "RMSE: 0.6863037922540264\n",
      "R-square: 0.6296337782599915\n"
     ]
    }
   ],
   "source": [
    "X_train, X_test, y_train, y_test = train_test_split(\n",
    "    X_final, y, test_size=0.5, random_state=42)\n",
    "\n",
    "lr = LinearRegression()\n",
    "lr.fit(X_train, y_train)\n",
    "predictions_lr = lr.predict(X_test)\n",
    "\n",
    "rmse = np.sqrt(mean_squared_error(y_test, predictions_lr))\n",
    "r2 = r2_score(y_test, predictions_lr)\n",
    "\n",
    "print('RMSE:', rmse)\n",
    "print('R-square:', r2)"
   ]
  },
  {
   "cell_type": "markdown",
   "id": "7de9d8d5-cf1d-4b71-9d6a-d609d1504901",
   "metadata": {},
   "source": [
    "# Add Entropy featureX"
   ]
  },
  {
   "cell_type": "code",
   "execution_count": 24,
   "id": "70ab269f-46a3-4cf6-b74a-aa9d2fa0a185",
   "metadata": {
    "tags": []
   },
   "outputs": [
    {
     "name": "stdout",
     "output_type": "stream",
     "text": [
      "Processing row 50 out of 1000\n",
      "Processing row 100 out of 1000\n",
      "Processing row 150 out of 1000\n",
      "Processing row 200 out of 1000\n",
      "Processing row 250 out of 1000\n",
      "Processing row 300 out of 1000\n",
      "Processing row 350 out of 1000\n",
      "Processing row 400 out of 1000\n",
      "Processing row 450 out of 1000\n",
      "Processing row 500 out of 1000\n",
      "Processing row 550 out of 1000\n",
      "Processing row 600 out of 1000\n",
      "Processing row 650 out of 1000\n",
      "Processing row 700 out of 1000\n",
      "Processing row 750 out of 1000\n",
      "Processing row 800 out of 1000\n",
      "Processing row 850 out of 1000\n",
      "Processing row 900 out of 1000\n",
      "Processing row 950 out of 1000\n",
      "Processing row 1000 out of 1000\n"
     ]
    }
   ],
   "source": [
    "entropy_feature = []\n",
    "for i in range(X.shape[0]):\n",
    "    if (i + 1) % 50 == 0:\n",
    "        print(f\"Processing row {i + 1} out of {X.shape[0]}\")\n",
    "        \n",
    "    data_remove = X.drop(index=i)\n",
    "    dgm = ripser.ripser(data_remove, maxdim=0)['dgms'][0]\n",
    "    p_entropy = persistent_entropy(dgm)\n",
    "    entropy_feature.append(p_entropy)"
   ]
  },
  {
   "cell_type": "code",
   "execution_count": 29,
   "id": "75592d9d-4d58-46b2-923d-9b32d5cc482f",
   "metadata": {},
   "outputs": [
    {
     "data": {
      "text/html": [
       "<div>\n",
       "<style scoped>\n",
       "    .dataframe tbody tr th:only-of-type {\n",
       "        vertical-align: middle;\n",
       "    }\n",
       "\n",
       "    .dataframe tbody tr th {\n",
       "        vertical-align: top;\n",
       "    }\n",
       "\n",
       "    .dataframe thead th {\n",
       "        text-align: right;\n",
       "    }\n",
       "</style>\n",
       "<table border=\"1\" class=\"dataframe\">\n",
       "  <thead>\n",
       "    <tr style=\"text-align: right;\">\n",
       "      <th></th>\n",
       "      <th>MedInc</th>\n",
       "      <th>HouseAge</th>\n",
       "      <th>AveRooms</th>\n",
       "      <th>AveBedrms</th>\n",
       "      <th>Population</th>\n",
       "      <th>AveOccup</th>\n",
       "      <th>Latitude</th>\n",
       "      <th>Longitude</th>\n",
       "      <th>topo_feature</th>\n",
       "    </tr>\n",
       "  </thead>\n",
       "  <tbody>\n",
       "    <tr>\n",
       "      <th>0</th>\n",
       "      <td>-1.165910</td>\n",
       "      <td>-1.070219</td>\n",
       "      <td>-0.262989</td>\n",
       "      <td>0.076520</td>\n",
       "      <td>0.188266</td>\n",
       "      <td>-0.388556</td>\n",
       "      <td>3.032089</td>\n",
       "      <td>-2.403671</td>\n",
       "      <td>-0.428133</td>\n",
       "    </tr>\n",
       "    <tr>\n",
       "      <th>1</th>\n",
       "      <td>-0.897428</td>\n",
       "      <td>-1.630627</td>\n",
       "      <td>-0.274419</td>\n",
       "      <td>-0.147923</td>\n",
       "      <td>-0.197086</td>\n",
       "      <td>0.760507</td>\n",
       "      <td>0.137286</td>\n",
       "      <td>0.124272</td>\n",
       "      <td>-0.155814</td>\n",
       "    </tr>\n",
       "    <tr>\n",
       "      <th>2</th>\n",
       "      <td>0.319184</td>\n",
       "      <td>-1.150277</td>\n",
       "      <td>0.576531</td>\n",
       "      <td>-0.167376</td>\n",
       "      <td>0.656260</td>\n",
       "      <td>-0.025571</td>\n",
       "      <td>1.430298</td>\n",
       "      <td>-1.674849</td>\n",
       "      <td>-0.098502</td>\n",
       "    </tr>\n",
       "    <tr>\n",
       "      <th>3</th>\n",
       "      <td>0.532011</td>\n",
       "      <td>-1.870802</td>\n",
       "      <td>0.151656</td>\n",
       "      <td>-0.093335</td>\n",
       "      <td>-0.182229</td>\n",
       "      <td>0.175792</td>\n",
       "      <td>1.078097</td>\n",
       "      <td>-0.808417</td>\n",
       "      <td>-0.044423</td>\n",
       "    </tr>\n",
       "    <tr>\n",
       "      <th>4</th>\n",
       "      <td>-1.337464</td>\n",
       "      <td>-0.830044</td>\n",
       "      <td>-0.307826</td>\n",
       "      <td>-0.017700</td>\n",
       "      <td>-0.012302</td>\n",
       "      <td>2.003783</td>\n",
       "      <td>-1.411434</td>\n",
       "      <td>1.230247</td>\n",
       "      <td>0.004009</td>\n",
       "    </tr>\n",
       "  </tbody>\n",
       "</table>\n",
       "</div>"
      ],
      "text/plain": [
       "     MedInc  HouseAge  AveRooms  AveBedrms  Population  AveOccup  Latitude  \\\n",
       "0 -1.165910 -1.070219 -0.262989   0.076520    0.188266 -0.388556  3.032089   \n",
       "1 -0.897428 -1.630627 -0.274419  -0.147923   -0.197086  0.760507  0.137286   \n",
       "2  0.319184 -1.150277  0.576531  -0.167376    0.656260 -0.025571  1.430298   \n",
       "3  0.532011 -1.870802  0.151656  -0.093335   -0.182229  0.175792  1.078097   \n",
       "4 -1.337464 -0.830044 -0.307826  -0.017700   -0.012302  2.003783 -1.411434   \n",
       "\n",
       "   Longitude  topo_feature  \n",
       "0  -2.403671     -0.428133  \n",
       "1   0.124272     -0.155814  \n",
       "2  -1.674849     -0.098502  \n",
       "3  -0.808417     -0.044423  \n",
       "4   1.230247      0.004009  "
      ]
     },
     "execution_count": 29,
     "metadata": {},
     "output_type": "execute_result"
    }
   ],
   "source": [
    "X['topo_feature'] = [x.tolist()[0] if isinstance(x, np.ndarray) else x for x in entropy_feature]\n",
    "X['topo_feature'] = scaler.fit_transform(X[['topo_feature']])\n",
    "X.head()"
   ]
  },
  {
   "cell_type": "code",
   "execution_count": 30,
   "id": "7d1fb7af-b240-4ac0-8ded-3ec7f5a93c5e",
   "metadata": {},
   "outputs": [
    {
     "name": "stdout",
     "output_type": "stream",
     "text": [
      "RMSE: 0.8125377810376255\n",
      "R-square: 0.48085855527198473\n"
     ]
    }
   ],
   "source": [
    "X_final = X.iloc[:, :9].to_numpy()\n",
    "\n",
    "X_train, X_test, y_train, y_test = train_test_split(\n",
    "    X_final, y, test_size=0.5, random_state=42)\n",
    "\n",
    "lr = LinearRegression()\n",
    "lr.fit(X_train, y_train)\n",
    "predictions_lr = lr.predict(X_test)\n",
    "\n",
    "rmse = np.sqrt(mean_squared_error(y_test, predictions_lr))\n",
    "r2 = r2_score(y_test, predictions_lr)\n",
    "\n",
    "print('RMSE:', rmse)\n",
    "print('R-square:', r2)"
   ]
  }
 ],
 "metadata": {
  "kernelspec": {
   "display_name": "Python 3 (ipykernel)",
   "language": "python",
   "name": "python3"
  },
  "language_info": {
   "codemirror_mode": {
    "name": "ipython",
    "version": 3
   },
   "file_extension": ".py",
   "mimetype": "text/x-python",
   "name": "python",
   "nbconvert_exporter": "python",
   "pygments_lexer": "ipython3",
   "version": "3.10.6"
  }
 },
 "nbformat": 4,
 "nbformat_minor": 5
}
