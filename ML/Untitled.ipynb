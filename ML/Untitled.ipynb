{
 "cells": [
  {
   "cell_type": "code",
   "execution_count": 1,
   "id": "900209fc-ca1c-4a30-9331-c1736bf98745",
   "metadata": {},
   "outputs": [],
   "source": [
    "import ripser\n",
    "import time\n",
    "import numpy as np\n",
    "import os\n",
    "from concurrent.futures import ThreadPoolExecutor\n",
    "from sklearn.metrics import pairwise_distances\n",
    "import multiprocessing\n",
    "\n",
    "data = np.random.rand(200, 2)\n",
    "distances = pairwise_distances(data, metric='euclidean')"
   ]
  },
  {
   "cell_type": "code",
   "execution_count": 2,
   "id": "991793d3-6cea-4683-968c-683b9047eb55",
   "metadata": {},
   "outputs": [],
   "source": [
    "def compute_persistence(data_remove):\n",
    "    print(f\"進程 {os.getpid()} 開始計算\")\n",
    "    result = ripser.ripser(data_remove, distance_matrix=True, maxdim = 0)['dgms'][0]\n",
    "    print(f\"進程 {os.getpid()} 完成計算\")\n",
    "    return result"
   ]
  },
  {
   "cell_type": "code",
   "execution_count": 3,
   "id": "26e306d9-94ba-47c4-a28e-be286c770afe",
   "metadata": {},
   "outputs": [
    {
     "name": "stdout",
     "output_type": "stream",
     "text": [
      "進程 12804 開始計算\n",
      "進程 12804 完成計算\n",
      "進程 12804 開始計算\n",
      "進程 12804 完成計算\n",
      "串行運算時間:  0.006494760513305664\n"
     ]
    }
   ],
   "source": [
    "start_time = time.time()\n",
    "\n",
    "# 串行運算\n",
    "result1 = compute_persistence(distances)\n",
    "result2 = compute_persistence(distances)\n",
    "\n",
    "end_time = time.time()\n",
    "print(\"串行運算時間: \", end_time - start_time)"
   ]
  },
  {
   "cell_type": "code",
   "execution_count": 4,
   "id": "1768d95c-2f68-4d27-9b3c-42d6cb5f7062",
   "metadata": {},
   "outputs": [
    {
     "name": "stdout",
     "output_type": "stream",
     "text": [
      "進程 12804 開始計算\n",
      "進程 12804 完成計算\n",
      "進程 12804 開始計算\n",
      "進程 12804 完成計算\n",
      "平行運算時間:  0.007979631423950195\n"
     ]
    }
   ],
   "source": [
    "if __name__ == \"__main__\":\n",
    "    data_list = [distances, distances]\n",
    "\n",
    "    start_time = time.time()\n",
    "\n",
    "    # 使用 ThreadPoolExecutor 平行運算\n",
    "    with ThreadPoolExecutor(max_workers=8) as executor:\n",
    "        results = list(executor.map(compute_persistence, data_list))\n",
    "\n",
    "    end_time = time.time()\n",
    "    print(\"平行運算時間: \", end_time - start_time)"
   ]
  },
  {
   "cell_type": "code",
   "execution_count": 3,
   "id": "b51fe888-0866-417c-ad76-6a28d1e291a5",
   "metadata": {},
   "outputs": [
    {
     "data": {
      "text/plain": [
       "16"
      ]
     },
     "execution_count": 3,
     "metadata": {},
     "output_type": "execute_result"
    }
   ],
   "source": [
    "import os\n",
    "os.cpu_count()"
   ]
  },
  {
   "cell_type": "code",
   "execution_count": 29,
   "id": "2ed07c3f-ccdc-41a6-a5a6-900221c7ca6c",
   "metadata": {},
   "outputs": [],
   "source": [
    "# import cProfile\n",
    "\n",
    "# cProfile.run('compute_persistence(data)')"
   ]
  },
  {
   "cell_type": "code",
   "execution_count": 3,
   "id": "81ac2f69-df09-4f04-8fac-0472443f4cb4",
   "metadata": {},
   "outputs": [],
   "source": [
    "import multiprocessing\n",
    "\n",
    "if __name__ == \"__main__\":\n",
    "    multiprocessing.set_start_method('spawn', force=True)  # 設置進程啟動方式為 'spawn'"
   ]
  },
  {
   "cell_type": "code",
   "execution_count": 46,
   "id": "63347807-f6ed-4139-bd5f-44f2a3e0b28a",
   "metadata": {},
   "outputs": [
    {
     "name": "stdout",
     "output_type": "stream",
     "text": [
      "可以序列化\n"
     ]
    }
   ],
   "source": [
    "import pickle\n",
    "\n",
    "try:\n",
    "    pickle.dumps(distances)  # 將 distances 對象進行序列化測試\n",
    "    print(\"可以序列化\")\n",
    "except pickle.PicklingError:\n",
    "    print(\"無法序列化\")"
   ]
  },
  {
   "cell_type": "code",
   "execution_count": 114,
   "id": "82373382-34aa-45d1-921a-c97c6c3f48da",
   "metadata": {
    "tags": []
   },
   "outputs": [],
   "source": [
    "# from concurrent.futures import ProcessPoolExecutor\n",
    "\n",
    "# lst = []\n",
    "# data_list = [distances] * 3\n",
    "\n",
    "# def compute_persistence(data_remove):\n",
    "#     print(f\"進程 {os.getpid()} 開始計算\")\n",
    "#     result = ripser.ripser(data_remove, distance_matrix=True, maxdim = 0)['dgms'][0]\n",
    "#     print(f\"進程 {os.getpid()} 完成計算\")\n",
    "#     return result\n",
    "\n",
    "# def main():\n",
    "#     start_time = time.time()\n",
    "    \n",
    "#     with ProcessPoolExecutor(max_workers=4) as executor:\n",
    "#         result = executor.map(compute_persistence, data_list)\n",
    "#         for i in result:\n",
    "#             lst.extend(i)\n",
    "    \n",
    "#     end_time = time.time()\n",
    "#     print(\"平行運算時間: \", end_time - start_time)\n",
    "\n",
    "# if __name__ == \"__main__\":\n",
    "    \n",
    "#     main()"
   ]
  },
  {
   "cell_type": "code",
   "execution_count": 71,
   "id": "04f387fe-7e58-4937-8da3-dd9eb12bfc85",
   "metadata": {
    "tags": []
   },
   "outputs": [],
   "source": [
    "# from joblib import Parallel, delayed\n",
    "# import time\n",
    "# import os\n",
    "\n",
    "# if __name__ == \"__main__\":\n",
    "#     # 假設 distances 是已經計算好的距離矩陣\n",
    "#     data_list = [distances, distances]\n",
    "\n",
    "#     start_time = time.time()\n",
    "\n",
    "#     # 使用 joblib 進行平行運算\n",
    "#     results = Parallel(n_jobs=8)(delayed(compute_persistence)(data) for data in data_list)\n",
    "\n",
    "#     end_time = time.time()\n",
    "#     print(\"平行運算時間: \", end_time - start_time)"
   ]
  }
 ],
 "metadata": {
  "kernelspec": {
   "display_name": "Python 3 (ipykernel)",
   "language": "python",
   "name": "python3"
  },
  "language_info": {
   "codemirror_mode": {
    "name": "ipython",
    "version": 3
   },
   "file_extension": ".py",
   "mimetype": "text/x-python",
   "name": "python",
   "nbconvert_exporter": "python",
   "pygments_lexer": "ipython3",
   "version": "3.9.12"
  }
 },
 "nbformat": 4,
 "nbformat_minor": 5
}
