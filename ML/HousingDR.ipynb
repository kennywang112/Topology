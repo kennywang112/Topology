{
 "cells": [
  {
   "cell_type": "markdown",
   "id": "39693135-f93c-4baa-88df-d2d7ae8bcb7b",
   "metadata": {},
   "source": [
    "### install from https://github.com/amish-mishra/cechmate-DR/tree/master"
   ]
  },
  {
   "cell_type": "code",
   "execution_count": 1,
   "id": "432787ae-7a0a-4e94-b852-1edfe7d84381",
   "metadata": {},
   "outputs": [],
   "source": [
    "import cechmate as cm\n",
    "import numpy as np\n",
    "import pandas as pd\n",
    "from sklearn.decomposition import PCA\n",
    "from sklearn.linear_model import LinearRegression\n",
    "from sklearn.model_selection import train_test_split\n",
    "from sklearn.datasets import fetch_california_housing\n",
    "from sklearn.metrics import r2_score, mean_squared_error\n",
    "from sklearn.preprocessing import StandardScaler\n",
    "from persim.persistent_entropy import *\n",
    "import gudhi.representations\n",
    "import gudhi as gd "
   ]
  },
  {
   "cell_type": "code",
   "execution_count": 7,
   "id": "fe42b999-4e38-46a5-9995-83fa109d3f66",
   "metadata": {},
   "outputs": [],
   "source": [
    "import ssl\n",
    "ssl._create_default_https_context = ssl._create_unverified_context\n",
    "\n",
    "housing = fetch_california_housing()\n",
    "\n",
    "X_all = pd.DataFrame(housing.data, columns = housing.feature_names)\n",
    "y_all = housing['target']\n",
    "\n",
    "X_all = X_all#.iloc[:1000]\n",
    "y_all = y_all#[:1000]"
   ]
  },
  {
   "cell_type": "code",
   "execution_count": 8,
   "id": "81021d2a-fa82-4f96-a34f-7b9b2d2eb8cb",
   "metadata": {},
   "outputs": [
    {
     "data": {
      "text/html": [
       "<div>\n",
       "<style scoped>\n",
       "    .dataframe tbody tr th:only-of-type {\n",
       "        vertical-align: middle;\n",
       "    }\n",
       "\n",
       "    .dataframe tbody tr th {\n",
       "        vertical-align: top;\n",
       "    }\n",
       "\n",
       "    .dataframe thead th {\n",
       "        text-align: right;\n",
       "    }\n",
       "</style>\n",
       "<table border=\"1\" class=\"dataframe\">\n",
       "  <thead>\n",
       "    <tr style=\"text-align: right;\">\n",
       "      <th></th>\n",
       "      <th>MedInc</th>\n",
       "      <th>HouseAge</th>\n",
       "      <th>AveRooms</th>\n",
       "      <th>AveBedrms</th>\n",
       "      <th>Population</th>\n",
       "      <th>AveOccup</th>\n",
       "      <th>Latitude</th>\n",
       "      <th>Longitude</th>\n",
       "    </tr>\n",
       "  </thead>\n",
       "  <tbody>\n",
       "    <tr>\n",
       "      <th>0</th>\n",
       "      <td>2.344766</td>\n",
       "      <td>0.982143</td>\n",
       "      <td>0.628559</td>\n",
       "      <td>-0.153758</td>\n",
       "      <td>-0.974429</td>\n",
       "      <td>-0.049597</td>\n",
       "      <td>1.052548</td>\n",
       "      <td>-1.327835</td>\n",
       "    </tr>\n",
       "    <tr>\n",
       "      <th>1</th>\n",
       "      <td>2.332238</td>\n",
       "      <td>-0.607019</td>\n",
       "      <td>0.327041</td>\n",
       "      <td>-0.263336</td>\n",
       "      <td>0.861439</td>\n",
       "      <td>-0.092512</td>\n",
       "      <td>1.043185</td>\n",
       "      <td>-1.322844</td>\n",
       "    </tr>\n",
       "    <tr>\n",
       "      <th>2</th>\n",
       "      <td>1.782699</td>\n",
       "      <td>1.856182</td>\n",
       "      <td>1.155620</td>\n",
       "      <td>-0.049016</td>\n",
       "      <td>-0.820777</td>\n",
       "      <td>-0.025843</td>\n",
       "      <td>1.038503</td>\n",
       "      <td>-1.332827</td>\n",
       "    </tr>\n",
       "    <tr>\n",
       "      <th>3</th>\n",
       "      <td>0.932968</td>\n",
       "      <td>1.856182</td>\n",
       "      <td>0.156966</td>\n",
       "      <td>-0.049833</td>\n",
       "      <td>-0.766028</td>\n",
       "      <td>-0.050329</td>\n",
       "      <td>1.038503</td>\n",
       "      <td>-1.337818</td>\n",
       "    </tr>\n",
       "    <tr>\n",
       "      <th>4</th>\n",
       "      <td>-0.012881</td>\n",
       "      <td>1.856182</td>\n",
       "      <td>0.344711</td>\n",
       "      <td>-0.032906</td>\n",
       "      <td>-0.759847</td>\n",
       "      <td>-0.085616</td>\n",
       "      <td>1.038503</td>\n",
       "      <td>-1.337818</td>\n",
       "    </tr>\n",
       "  </tbody>\n",
       "</table>\n",
       "</div>"
      ],
      "text/plain": [
       "     MedInc  HouseAge  AveRooms  AveBedrms  Population  AveOccup  Latitude  \\\n",
       "0  2.344766  0.982143  0.628559  -0.153758   -0.974429 -0.049597  1.052548   \n",
       "1  2.332238 -0.607019  0.327041  -0.263336    0.861439 -0.092512  1.043185   \n",
       "2  1.782699  1.856182  1.155620  -0.049016   -0.820777 -0.025843  1.038503   \n",
       "3  0.932968  1.856182  0.156966  -0.049833   -0.766028 -0.050329  1.038503   \n",
       "4 -0.012881  1.856182  0.344711  -0.032906   -0.759847 -0.085616  1.038503   \n",
       "\n",
       "   Longitude  \n",
       "0  -1.327835  \n",
       "1  -1.322844  \n",
       "2  -1.332827  \n",
       "3  -1.337818  \n",
       "4  -1.337818  "
      ]
     },
     "execution_count": 8,
     "metadata": {},
     "output_type": "execute_result"
    }
   ],
   "source": [
    "scaler = StandardScaler()\n",
    "scaler.fit(X_all)\n",
    "X_scaled = pd.DataFrame(scaler.transform(X_all), index= X_all.index, columns= X_all.columns)\n",
    "X_scaled.head()"
   ]
  },
  {
   "cell_type": "code",
   "execution_count": 9,
   "id": "a76258ac-25c4-4dea-8abe-3889e92d4f9d",
   "metadata": {},
   "outputs": [
    {
     "name": "stdout",
     "output_type": "stream",
     "text": [
      "RMSE: 0.7195934214967924\n",
      "R-square: 0.6113250004234638\n"
     ]
    }
   ],
   "source": [
    "X_train, X_test, y_train, y_test = train_test_split(\n",
    "    X_scaled, y_all, test_size=0.5, random_state=43)\n",
    "\n",
    "lr = LinearRegression()\n",
    "lr.fit(X_train, y_train)\n",
    "predictions_lr = lr.predict(X_test)\n",
    "\n",
    "rmse = np.sqrt(mean_squared_error(y_test, predictions_lr))\n",
    "r2 = r2_score(y_test, predictions_lr)\n",
    "\n",
    "print('RMSE:', rmse)\n",
    "print('R-square:', r2)"
   ]
  },
  {
   "cell_type": "code",
   "execution_count": 10,
   "id": "1a784bbd-a588-415b-aec9-47f9bb41d428",
   "metadata": {},
   "outputs": [],
   "source": [
    "from joblib import Parallel, delayed\n",
    "import time\n",
    "import os\n",
    "import gc"
   ]
  },
  {
   "cell_type": "code",
   "execution_count": 11,
   "id": "cb0b424f-edb8-492c-99d1-ac27e98f37fc",
   "metadata": {},
   "outputs": [],
   "source": [
    "remove_infinity = lambda alpha_list: [alpha for alpha in alpha_list if alpha[1] != np.inf]\n",
    "pca = PCA(n_components=2)\n",
    "\n",
    "def compute_DR(data_remove):\n",
    "    # print(f\"進程 {os.getpid()} 開始計算\")\n",
    "    \n",
    "    # PCA\n",
    "    pca_result = pca.fit_transform(data_remove)\n",
    "    \n",
    "    # DR complex\n",
    "    del_rips = cm.DR(maxdim=1)\n",
    "    filtration = del_rips.build(pca_result)\n",
    "    dgms_del_rips = del_rips.diagrams(filtration, verbose=False)\n",
    "\n",
    "    ## entropy\n",
    "    PE = gd.representations.Entropy()\n",
    "    pe_normal = PE.fit_transform([dgms_del_rips[0]])\n",
    "    \n",
    "    # print(f\"進程 {os.getpid()} 完成計算\")\n",
    "    return pe_normal\n",
    "\n",
    "def compute_Alpha(data_remove):\n",
    "    # print(f\"進程 {os.getpid()} 開始計算\")\n",
    "    \n",
    "    # PCA\n",
    "    pca_result = pca.fit_transform(data_remove)\n",
    "    # Alpha complex\n",
    "    alpha_complex = gd.AlphaComplex(points = pca_result)\n",
    "    st_alpha = alpha_complex.create_simplex_tree()\n",
    "    alpha_filtration = st_alpha.get_filtration()\n",
    "    alpha_list = list(alpha_filtration)\n",
    "    # Filter\n",
    "    filtered_alpha_list = remove_infinity(alpha_list)\n",
    "    dgm = np.array([[0.0, value] for _, value in filtered_alpha_list])\n",
    "    dgm_filtered = np.array([bar for bar in dgm if bar[1] - bar[0] != 0])\n",
    "    ## entropy\n",
    "    PE = gd.representations.Entropy()\n",
    "    pe_normal = PE.fit_transform([dgm_filtered])\n",
    "    \n",
    "    # print(f\"進程 {os.getpid()} 完成計算\")\n",
    "    return pe_normal"
   ]
  },
  {
   "cell_type": "code",
   "execution_count": 13,
   "id": "e4ce92c7-f836-4611-aa85-cf6e91790aca",
   "metadata": {},
   "outputs": [
    {
     "name": "stdout",
     "output_type": "stream",
     "text": [
      "Processing row 500 out of 1000\n",
      "Processing row 1000 out of 1000\n"
     ]
    }
   ],
   "source": [
    "data_list = []\n",
    "for i in range(X_scaled.shape[0]):\n",
    "    if (i + 1) % 500 == 0:\n",
    "        print(f\"Processing row {i + 1} out of {X_scaled.shape[0]}\")\n",
    "        gc.collect()\n",
    "        \n",
    "    data_remove = X_scaled.drop(index=i)\n",
    "    data_list.append(data_remove)"
   ]
  },
  {
   "cell_type": "markdown",
   "id": "f6995123-ceff-4041-b427-6e18bdb83544",
   "metadata": {},
   "source": [
    "## Delaunay-Rips"
   ]
  },
  {
   "cell_type": "code",
   "execution_count": null,
   "id": "ddae865f-3f2d-4953-8fdc-fdd4fc909a0b",
   "metadata": {
    "scrolled": true
   },
   "outputs": [],
   "source": [
    "start_time = time.time()\n",
    "\n",
    "# 使用 joblib 進行平行運算\n",
    "results = Parallel(n_jobs=-1)(delayed(compute_DR)(data) for data in data_list)\n",
    "\n",
    "end_time = time.time()\n",
    "print(\"平行運算時間: \", end_time - start_time)"
   ]
  },
  {
   "cell_type": "markdown",
   "id": "9403b30e-16a4-43de-8b23-0ce9981c914a",
   "metadata": {},
   "source": [
    "## Alpha"
   ]
  },
  {
   "cell_type": "code",
   "execution_count": 26,
   "id": "58a9a820-8449-4f4b-8dbf-f2ff5ac647e4",
   "metadata": {
    "scrolled": true
   },
   "outputs": [
    {
     "name": "stdout",
     "output_type": "stream",
     "text": [
      "平行運算時間:  3471.6376938819885\n"
     ]
    }
   ],
   "source": [
    "start_time = time.time()\n",
    "\n",
    "# 使用 joblib 進行平行運算\n",
    "results = Parallel(n_jobs=-1)(delayed(compute_Alpha)(data) for data in data_list)\n",
    "\n",
    "end_time = time.time()\n",
    "print(\"平行運算時間: \", end_time - start_time)"
   ]
  },
  {
   "cell_type": "code",
   "execution_count": 13,
   "id": "343d671c-1280-4d85-a404-93382e87f0f9",
   "metadata": {},
   "outputs": [],
   "source": [
    "import pickle\n",
    "# with open('Calculated/results.pkl', 'wb') as f:\n",
    "#     pickle.dump(results, f)\n",
    "\n",
    "with open('Calculated/results.pkl', 'rb') as file:\n",
    "    results = pickle.load(file)"
   ]
  },
  {
   "cell_type": "code",
   "execution_count": 33,
   "id": "74464537-2633-4ed4-92d6-a433fb518727",
   "metadata": {},
   "outputs": [],
   "source": [
    "# results"
   ]
  },
  {
   "cell_type": "code",
   "execution_count": 17,
   "id": "995b7792-0a70-4f84-995b-6c7f4e38b8a1",
   "metadata": {},
   "outputs": [
    {
     "data": {
      "text/html": [
       "<div>\n",
       "<style scoped>\n",
       "    .dataframe tbody tr th:only-of-type {\n",
       "        vertical-align: middle;\n",
       "    }\n",
       "\n",
       "    .dataframe tbody tr th {\n",
       "        vertical-align: top;\n",
       "    }\n",
       "\n",
       "    .dataframe thead th {\n",
       "        text-align: right;\n",
       "    }\n",
       "</style>\n",
       "<table border=\"1\" class=\"dataframe\">\n",
       "  <thead>\n",
       "    <tr style=\"text-align: right;\">\n",
       "      <th></th>\n",
       "      <th>MedInc</th>\n",
       "      <th>HouseAge</th>\n",
       "      <th>AveRooms</th>\n",
       "      <th>AveBedrms</th>\n",
       "      <th>Population</th>\n",
       "      <th>AveOccup</th>\n",
       "      <th>Latitude</th>\n",
       "      <th>Longitude</th>\n",
       "      <th>topo_feature</th>\n",
       "    </tr>\n",
       "  </thead>\n",
       "  <tbody>\n",
       "    <tr>\n",
       "      <th>0</th>\n",
       "      <td>2.344766</td>\n",
       "      <td>0.982143</td>\n",
       "      <td>0.628559</td>\n",
       "      <td>-0.153758</td>\n",
       "      <td>-0.974429</td>\n",
       "      <td>-0.049597</td>\n",
       "      <td>1.052548</td>\n",
       "      <td>-1.327835</td>\n",
       "      <td>1.166067</td>\n",
       "    </tr>\n",
       "    <tr>\n",
       "      <th>1</th>\n",
       "      <td>2.332238</td>\n",
       "      <td>-0.607019</td>\n",
       "      <td>0.327041</td>\n",
       "      <td>-0.263336</td>\n",
       "      <td>0.861439</td>\n",
       "      <td>-0.092512</td>\n",
       "      <td>1.043185</td>\n",
       "      <td>-1.322844</td>\n",
       "      <td>0.696880</td>\n",
       "    </tr>\n",
       "    <tr>\n",
       "      <th>2</th>\n",
       "      <td>1.782699</td>\n",
       "      <td>1.856182</td>\n",
       "      <td>1.155620</td>\n",
       "      <td>-0.049016</td>\n",
       "      <td>-0.820777</td>\n",
       "      <td>-0.025843</td>\n",
       "      <td>1.038503</td>\n",
       "      <td>-1.332827</td>\n",
       "      <td>1.591508</td>\n",
       "    </tr>\n",
       "    <tr>\n",
       "      <th>3</th>\n",
       "      <td>0.932968</td>\n",
       "      <td>1.856182</td>\n",
       "      <td>0.156966</td>\n",
       "      <td>-0.049833</td>\n",
       "      <td>-0.766028</td>\n",
       "      <td>-0.050329</td>\n",
       "      <td>1.038503</td>\n",
       "      <td>-1.337818</td>\n",
       "      <td>0.266836</td>\n",
       "    </tr>\n",
       "    <tr>\n",
       "      <th>4</th>\n",
       "      <td>-0.012881</td>\n",
       "      <td>1.856182</td>\n",
       "      <td>0.344711</td>\n",
       "      <td>-0.032906</td>\n",
       "      <td>-0.759847</td>\n",
       "      <td>-0.085616</td>\n",
       "      <td>1.038503</td>\n",
       "      <td>-1.337818</td>\n",
       "      <td>0.343667</td>\n",
       "    </tr>\n",
       "  </tbody>\n",
       "</table>\n",
       "</div>"
      ],
      "text/plain": [
       "     MedInc  HouseAge  AveRooms  AveBedrms  Population  AveOccup  Latitude  \\\n",
       "0  2.344766  0.982143  0.628559  -0.153758   -0.974429 -0.049597  1.052548   \n",
       "1  2.332238 -0.607019  0.327041  -0.263336    0.861439 -0.092512  1.043185   \n",
       "2  1.782699  1.856182  1.155620  -0.049016   -0.820777 -0.025843  1.038503   \n",
       "3  0.932968  1.856182  0.156966  -0.049833   -0.766028 -0.050329  1.038503   \n",
       "4 -0.012881  1.856182  0.344711  -0.032906   -0.759847 -0.085616  1.038503   \n",
       "\n",
       "   Longitude  topo_feature  \n",
       "0  -1.327835      1.166067  \n",
       "1  -1.322844      0.696880  \n",
       "2  -1.332827      1.591508  \n",
       "3  -1.337818      0.266836  \n",
       "4  -1.337818      0.343667  "
      ]
     },
     "execution_count": 17,
     "metadata": {},
     "output_type": "execute_result"
    }
   ],
   "source": [
    "X_scaled['topo_feature'] = [x.tolist()[0][0] if isinstance(x, np.ndarray) else x for x in results]\n",
    "X_scaled['topo_feature'] = scaler.fit_transform(X_scaled[['topo_feature']])\n",
    "X_scaled.head()"
   ]
  },
  {
   "cell_type": "code",
   "execution_count": 16,
   "id": "683462f7-4697-4c7e-89b8-e1c74ff7f319",
   "metadata": {},
   "outputs": [
    {
     "name": "stdout",
     "output_type": "stream",
     "text": [
      "RMSE: 0.7304755773405381\n",
      "R-square: 0.5974297708138535\n"
     ]
    }
   ],
   "source": [
    "X_train, X_test, y_train, y_test = train_test_split(\n",
    "    X_scaled, y_all, test_size=0.5, random_state=42)\n",
    "\n",
    "X_train = X_train.reset_index(drop=True)\n",
    "X_test = X_test.reset_index(drop=True)\n",
    "y_train = pd.Series(y_train).reset_index(drop=True)\n",
    "y_test = pd.Series(y_test).reset_index(drop=True)\n",
    "\n",
    "lr = LinearRegression()\n",
    "lr.fit(X_train, y_train)\n",
    "predictions_lr = lr.predict(X_test)\n",
    "\n",
    "rmse = np.sqrt(mean_squared_error(y_test, predictions_lr))\n",
    "r2 = r2_score(y_test, predictions_lr)\n",
    "\n",
    "print('RMSE:', rmse)\n",
    "print('R-square:', r2)"
   ]
  },
  {
   "cell_type": "code",
   "execution_count": null,
   "id": "78fcff3f-5cce-47e0-bb19-361de10620f2",
   "metadata": {},
   "outputs": [],
   "source": []
  }
 ],
 "metadata": {
  "kernelspec": {
   "display_name": "Python 3 (ipykernel)",
   "language": "python",
   "name": "python3"
  },
  "language_info": {
   "codemirror_mode": {
    "name": "ipython",
    "version": 3
   },
   "file_extension": ".py",
   "mimetype": "text/x-python",
   "name": "python",
   "nbconvert_exporter": "python",
   "pygments_lexer": "ipython3",
   "version": "3.9.13"
  }
 },
 "nbformat": 4,
 "nbformat_minor": 5
}
