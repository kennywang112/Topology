{
 "cells": [
  {
   "cell_type": "markdown",
   "id": "39693135-f93c-4baa-88df-d2d7ae8bcb7b",
   "metadata": {},
   "source": [
    "### install from https://github.com/amish-mishra/cechmate-DR/tree/master"
   ]
  },
  {
   "cell_type": "code",
   "execution_count": 1,
   "id": "432787ae-7a0a-4e94-b852-1edfe7d84381",
   "metadata": {},
   "outputs": [],
   "source": [
    "import cechmate as cm\n",
    "import numpy as np\n",
    "import pandas as pd\n",
    "from sklearn.decomposition import PCA\n",
    "from sklearn.linear_model import LinearRegression\n",
    "from sklearn.model_selection import train_test_split\n",
    "from sklearn.datasets import fetch_california_housing\n",
    "from sklearn.metrics import r2_score, mean_squared_error\n",
    "from sklearn.preprocessing import StandardScaler\n",
    "from persim.persistent_entropy import *\n",
    "import gudhi.representations\n",
    "import gudhi as gd \n",
    "from utils import *"
   ]
  },
  {
   "cell_type": "code",
   "execution_count": 2,
   "id": "fe42b999-4e38-46a5-9995-83fa109d3f66",
   "metadata": {},
   "outputs": [],
   "source": [
    "import ssl\n",
    "ssl._create_default_https_context = ssl._create_unverified_context\n",
    "\n",
    "housing = fetch_california_housing()\n",
    "\n",
    "X_all = pd.DataFrame(housing.data, columns = housing.feature_names)\n",
    "y_all = housing['target']\n",
    "\n",
    "X_all = X_all.iloc[:1000]\n",
    "y_all = y_all[:1000]"
   ]
  },
  {
   "cell_type": "code",
   "execution_count": 3,
   "id": "81021d2a-fa82-4f96-a34f-7b9b2d2eb8cb",
   "metadata": {},
   "outputs": [
    {
     "data": {
      "text/html": [
       "<div>\n",
       "<style scoped>\n",
       "    .dataframe tbody tr th:only-of-type {\n",
       "        vertical-align: middle;\n",
       "    }\n",
       "\n",
       "    .dataframe tbody tr th {\n",
       "        vertical-align: top;\n",
       "    }\n",
       "\n",
       "    .dataframe thead th {\n",
       "        text-align: right;\n",
       "    }\n",
       "</style>\n",
       "<table border=\"1\" class=\"dataframe\">\n",
       "  <thead>\n",
       "    <tr style=\"text-align: right;\">\n",
       "      <th></th>\n",
       "      <th>MedInc</th>\n",
       "      <th>HouseAge</th>\n",
       "      <th>AveRooms</th>\n",
       "      <th>AveBedrms</th>\n",
       "      <th>Population</th>\n",
       "      <th>AveOccup</th>\n",
       "      <th>Latitude</th>\n",
       "      <th>Longitude</th>\n",
       "    </tr>\n",
       "  </thead>\n",
       "  <tbody>\n",
       "    <tr>\n",
       "      <th>0</th>\n",
       "      <td>2.475751</td>\n",
       "      <td>0.266201</td>\n",
       "      <td>1.500473</td>\n",
       "      <td>-0.266636</td>\n",
       "      <td>-0.900449</td>\n",
       "      <td>-0.219674</td>\n",
       "      <td>1.441017</td>\n",
       "      <td>-0.640477</td>\n",
       "    </tr>\n",
       "    <tr>\n",
       "      <th>1</th>\n",
       "      <td>2.462605</td>\n",
       "      <td>-1.251479</td>\n",
       "      <td>0.863503</td>\n",
       "      <td>-0.751121</td>\n",
       "      <td>1.186500</td>\n",
       "      <td>-0.830714</td>\n",
       "      <td>1.235934</td>\n",
       "      <td>-0.554449</td>\n",
       "    </tr>\n",
       "    <tr>\n",
       "      <th>2</th>\n",
       "      <td>1.885951</td>\n",
       "      <td>1.100925</td>\n",
       "      <td>2.613913</td>\n",
       "      <td>0.196463</td>\n",
       "      <td>-0.725783</td>\n",
       "      <td>0.118538</td>\n",
       "      <td>1.133393</td>\n",
       "      <td>-0.726504</td>\n",
       "    </tr>\n",
       "    <tr>\n",
       "      <th>3</th>\n",
       "      <td>0.994291</td>\n",
       "      <td>1.100925</td>\n",
       "      <td>0.504211</td>\n",
       "      <td>0.192853</td>\n",
       "      <td>-0.663546</td>\n",
       "      <td>-0.230108</td>\n",
       "      <td>1.133393</td>\n",
       "      <td>-0.812532</td>\n",
       "    </tr>\n",
       "    <tr>\n",
       "      <th>4</th>\n",
       "      <td>0.001771</td>\n",
       "      <td>1.100925</td>\n",
       "      <td>0.900830</td>\n",
       "      <td>0.267694</td>\n",
       "      <td>-0.656520</td>\n",
       "      <td>-0.732521</td>\n",
       "      <td>1.133393</td>\n",
       "      <td>-0.812532</td>\n",
       "    </tr>\n",
       "  </tbody>\n",
       "</table>\n",
       "</div>"
      ],
      "text/plain": [
       "     MedInc  HouseAge  AveRooms  AveBedrms  Population  AveOccup  Latitude  \\\n",
       "0  2.475751  0.266201  1.500473  -0.266636   -0.900449 -0.219674  1.441017   \n",
       "1  2.462605 -1.251479  0.863503  -0.751121    1.186500 -0.830714  1.235934   \n",
       "2  1.885951  1.100925  2.613913   0.196463   -0.725783  0.118538  1.133393   \n",
       "3  0.994291  1.100925  0.504211   0.192853   -0.663546 -0.230108  1.133393   \n",
       "4  0.001771  1.100925  0.900830   0.267694   -0.656520 -0.732521  1.133393   \n",
       "\n",
       "   Longitude  \n",
       "0  -0.640477  \n",
       "1  -0.554449  \n",
       "2  -0.726504  \n",
       "3  -0.812532  \n",
       "4  -0.812532  "
      ]
     },
     "execution_count": 3,
     "metadata": {},
     "output_type": "execute_result"
    }
   ],
   "source": [
    "scaler = StandardScaler()\n",
    "scaler.fit(X_all)\n",
    "X_scaled = pd.DataFrame(scaler.transform(X_all), index= X_all.index, columns= X_all.columns)\n",
    "X_scaled.head()"
   ]
  },
  {
   "cell_type": "code",
   "execution_count": 4,
   "id": "a76258ac-25c4-4dea-8abe-3889e92d4f9d",
   "metadata": {},
   "outputs": [
    {
     "name": "stdout",
     "output_type": "stream",
     "text": [
      "RMSE: 0.5137944706615996\n",
      "R-square: 0.6499318732684514\n"
     ]
    }
   ],
   "source": [
    "X_train, X_test, y_train, y_test = train_test_split(\n",
    "    X_scaled, y_all, test_size=0.5, random_state=43)\n",
    "\n",
    "lr = LinearRegression()\n",
    "lr.fit(X_train, y_train)\n",
    "predictions_lr = lr.predict(X_test)\n",
    "\n",
    "rmse = np.sqrt(mean_squared_error(y_test, predictions_lr))\n",
    "r2 = r2_score(y_test, predictions_lr)\n",
    "\n",
    "print('RMSE:', rmse)\n",
    "print('R-square:', r2)"
   ]
  },
  {
   "cell_type": "markdown",
   "id": "6b522b05-8788-4053-adfd-111dceeaea34",
   "metadata": {},
   "source": [
    "## Topo Feature"
   ]
  },
  {
   "cell_type": "code",
   "execution_count": 5,
   "id": "99f45ee8-8b98-42ba-a7ea-f4034a7854f8",
   "metadata": {},
   "outputs": [
    {
     "name": "stdout",
     "output_type": "stream",
     "text": [
      "Processing row 500 out of 1000\n",
      "Processing row 1000 out of 1000\n"
     ]
    },
    {
     "data": {
      "text/plain": [
       "1000"
      ]
     },
     "execution_count": 5,
     "metadata": {},
     "output_type": "execute_result"
    }
   ],
   "source": [
    "data_list = Data_list(X_scaled)\n",
    "len(data_list)"
   ]
  },
  {
   "cell_type": "markdown",
   "id": "41de0e0e-1a20-4d58-bc1c-530e2fe02f7a",
   "metadata": {},
   "source": [
    "### Alpha from Cechmate"
   ]
  },
  {
   "cell_type": "code",
   "execution_count": 8,
   "id": "2a5231f2-6a4e-4783-bd34-32fa2a01502f",
   "metadata": {
    "scrolled": true
   },
   "outputs": [],
   "source": [
    "# results = Parrallel_compute(data_list, typeComplex='AlphafromCechmate')"
   ]
  },
  {
   "cell_type": "markdown",
   "id": "f6995123-ceff-4041-b427-6e18bdb83544",
   "metadata": {},
   "source": [
    "## Delaunay-Rips"
   ]
  },
  {
   "cell_type": "code",
   "execution_count": 6,
   "id": "ddae865f-3f2d-4953-8fdc-fdd4fc909a0b",
   "metadata": {
    "scrolled": true
   },
   "outputs": [
    {
     "name": "stdout",
     "output_type": "stream",
     "text": [
      "平行運算時間:  35.906028032302856\n"
     ]
    }
   ],
   "source": [
    "results = Parrallel_compute(data_list, typeComplex='DR')"
   ]
  },
  {
   "cell_type": "markdown",
   "id": "9403b30e-16a4-43de-8b23-0ce9981c914a",
   "metadata": {},
   "source": [
    "## Alpha"
   ]
  },
  {
   "cell_type": "code",
   "execution_count": 9,
   "id": "58a9a820-8449-4f4b-8dbf-f2ff5ac647e4",
   "metadata": {
    "scrolled": true
   },
   "outputs": [
    {
     "name": "stdout",
     "output_type": "stream",
     "text": [
      "平行運算時間:  9.03106689453125\n"
     ]
    }
   ],
   "source": [
    "results = Parrallel_compute(data_list, typeComplex='Alpha')"
   ]
  },
  {
   "cell_type": "code",
   "execution_count": 13,
   "id": "343d671c-1280-4d85-a404-93382e87f0f9",
   "metadata": {},
   "outputs": [],
   "source": [
    "import pickle\n",
    "# with open('Calculated/results.pkl', 'wb') as f:\n",
    "#     pickle.dump(results, f)\n",
    "\n",
    "with open('Calculated/results.pkl', 'rb') as file:\n",
    "    results = pickle.load(file)"
   ]
  },
  {
   "cell_type": "code",
   "execution_count": 10,
   "id": "995b7792-0a70-4f84-995b-6c7f4e38b8a1",
   "metadata": {},
   "outputs": [
    {
     "data": {
      "text/html": [
       "<div>\n",
       "<style scoped>\n",
       "    .dataframe tbody tr th:only-of-type {\n",
       "        vertical-align: middle;\n",
       "    }\n",
       "\n",
       "    .dataframe tbody tr th {\n",
       "        vertical-align: top;\n",
       "    }\n",
       "\n",
       "    .dataframe thead th {\n",
       "        text-align: right;\n",
       "    }\n",
       "</style>\n",
       "<table border=\"1\" class=\"dataframe\">\n",
       "  <thead>\n",
       "    <tr style=\"text-align: right;\">\n",
       "      <th></th>\n",
       "      <th>MedInc</th>\n",
       "      <th>HouseAge</th>\n",
       "      <th>AveRooms</th>\n",
       "      <th>AveBedrms</th>\n",
       "      <th>Population</th>\n",
       "      <th>AveOccup</th>\n",
       "      <th>Latitude</th>\n",
       "      <th>Longitude</th>\n",
       "      <th>topo_feature</th>\n",
       "    </tr>\n",
       "  </thead>\n",
       "  <tbody>\n",
       "    <tr>\n",
       "      <th>0</th>\n",
       "      <td>2.475751</td>\n",
       "      <td>0.266201</td>\n",
       "      <td>1.500473</td>\n",
       "      <td>-0.266636</td>\n",
       "      <td>-0.900449</td>\n",
       "      <td>-0.219674</td>\n",
       "      <td>1.441017</td>\n",
       "      <td>-0.640477</td>\n",
       "      <td>0.130263</td>\n",
       "    </tr>\n",
       "    <tr>\n",
       "      <th>1</th>\n",
       "      <td>2.462605</td>\n",
       "      <td>-1.251479</td>\n",
       "      <td>0.863503</td>\n",
       "      <td>-0.751121</td>\n",
       "      <td>1.186500</td>\n",
       "      <td>-0.830714</td>\n",
       "      <td>1.235934</td>\n",
       "      <td>-0.554449</td>\n",
       "      <td>0.455036</td>\n",
       "    </tr>\n",
       "    <tr>\n",
       "      <th>2</th>\n",
       "      <td>1.885951</td>\n",
       "      <td>1.100925</td>\n",
       "      <td>2.613913</td>\n",
       "      <td>0.196463</td>\n",
       "      <td>-0.725783</td>\n",
       "      <td>0.118538</td>\n",
       "      <td>1.133393</td>\n",
       "      <td>-0.726504</td>\n",
       "      <td>-0.523892</td>\n",
       "    </tr>\n",
       "    <tr>\n",
       "      <th>3</th>\n",
       "      <td>0.994291</td>\n",
       "      <td>1.100925</td>\n",
       "      <td>0.504211</td>\n",
       "      <td>0.192853</td>\n",
       "      <td>-0.663546</td>\n",
       "      <td>-0.230108</td>\n",
       "      <td>1.133393</td>\n",
       "      <td>-0.812532</td>\n",
       "      <td>-0.288214</td>\n",
       "    </tr>\n",
       "    <tr>\n",
       "      <th>4</th>\n",
       "      <td>0.001771</td>\n",
       "      <td>1.100925</td>\n",
       "      <td>0.900830</td>\n",
       "      <td>0.267694</td>\n",
       "      <td>-0.656520</td>\n",
       "      <td>-0.732521</td>\n",
       "      <td>1.133393</td>\n",
       "      <td>-0.812532</td>\n",
       "      <td>-0.084631</td>\n",
       "    </tr>\n",
       "  </tbody>\n",
       "</table>\n",
       "</div>"
      ],
      "text/plain": [
       "     MedInc  HouseAge  AveRooms  AveBedrms  Population  AveOccup  Latitude  \\\n",
       "0  2.475751  0.266201  1.500473  -0.266636   -0.900449 -0.219674  1.441017   \n",
       "1  2.462605 -1.251479  0.863503  -0.751121    1.186500 -0.830714  1.235934   \n",
       "2  1.885951  1.100925  2.613913   0.196463   -0.725783  0.118538  1.133393   \n",
       "3  0.994291  1.100925  0.504211   0.192853   -0.663546 -0.230108  1.133393   \n",
       "4  0.001771  1.100925  0.900830   0.267694   -0.656520 -0.732521  1.133393   \n",
       "\n",
       "   Longitude  topo_feature  \n",
       "0  -0.640477      0.130263  \n",
       "1  -0.554449      0.455036  \n",
       "2  -0.726504     -0.523892  \n",
       "3  -0.812532     -0.288214  \n",
       "4  -0.812532     -0.084631  "
      ]
     },
     "execution_count": 10,
     "metadata": {},
     "output_type": "execute_result"
    }
   ],
   "source": [
    "X_scaled['topo_feature'] = [x.tolist()[0][0] if isinstance(x, np.ndarray) else x for x in results]\n",
    "X_scaled['topo_feature'] = scaler.fit_transform(X_scaled[['topo_feature']])\n",
    "X_scaled.head()"
   ]
  },
  {
   "cell_type": "code",
   "execution_count": 11,
   "id": "683462f7-4697-4c7e-89b8-e1c74ff7f319",
   "metadata": {},
   "outputs": [
    {
     "name": "stdout",
     "output_type": "stream",
     "text": [
      "RMSE: 0.5301842830951464\n",
      "R-square: 0.6487234845943991\n"
     ]
    }
   ],
   "source": [
    "X_train, X_test, y_train, y_test = train_test_split(\n",
    "    X_scaled, y_all, test_size=0.5, random_state=42)\n",
    "\n",
    "X_train = X_train.reset_index(drop=True)\n",
    "X_test = X_test.reset_index(drop=True)\n",
    "y_train = pd.Series(y_train).reset_index(drop=True)\n",
    "y_test = pd.Series(y_test).reset_index(drop=True)\n",
    "\n",
    "lr = LinearRegression()\n",
    "lr.fit(X_train, y_train)\n",
    "predictions_lr = lr.predict(X_test)\n",
    "\n",
    "rmse = np.sqrt(mean_squared_error(y_test, predictions_lr))\n",
    "r2 = r2_score(y_test, predictions_lr)\n",
    "\n",
    "print('RMSE:', rmse)\n",
    "print('R-square:', r2)"
   ]
  },
  {
   "cell_type": "code",
   "execution_count": null,
   "id": "78fcff3f-5cce-47e0-bb19-361de10620f2",
   "metadata": {},
   "outputs": [],
   "source": []
  }
 ],
 "metadata": {
  "kernelspec": {
   "display_name": "Python 3 (ipykernel)",
   "language": "python",
   "name": "python3"
  },
  "language_info": {
   "codemirror_mode": {
    "name": "ipython",
    "version": 3
   },
   "file_extension": ".py",
   "mimetype": "text/x-python",
   "name": "python",
   "nbconvert_exporter": "python",
   "pygments_lexer": "ipython3",
   "version": "3.10.6"
  }
 },
 "nbformat": 4,
 "nbformat_minor": 5
}
