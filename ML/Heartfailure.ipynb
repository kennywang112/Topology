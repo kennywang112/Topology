{
 "cells": [
  {
   "cell_type": "markdown",
   "id": "31f98683-efda-4b84-9e5e-2bf66864ee17",
   "metadata": {},
   "source": [
    "dataset: https://www.kaggle.com/datasets/andrewmvd/heart-failure-clinical-data"
   ]
  },
  {
   "cell_type": "code",
   "execution_count": null,
   "id": "1a0c7b2b-b117-4b30-8a2c-22cb3f2c9292",
   "metadata": {},
   "outputs": [],
   "source": [
    "import numpy as np\n",
    "import pandas as pd\n",
    "\n",
    "from sklearn import metrics\n",
    "from persim.persistent_entropy import *\n",
    "from sklearn.model_selection import train_test_split\n",
    "from sklearn.preprocessing import StandardScaler\n",
    "from sklearn.linear_model import LogisticRegression\n",
    "\n",
    "from utils import Parrallel_compute, Data_list"
   ]
  },
  {
   "cell_type": "code",
   "execution_count": null,
   "id": "70012156-ac08-4057-886f-0765cbe0060a",
   "metadata": {},
   "outputs": [
    {
     "name": "stdout",
     "output_type": "stream",
     "text": [
      "(299, 11)\n"
     ]
    }
   ],
   "source": [
    "df = pd.read_csv(\"../Data/heart_failure_clinical_records_dataset.csv\")\n",
    "\n",
    "columns_to_scale = ['age', 'creatinine_phosphokinase', 'ejection_fraction', 'platelets', 'serum_creatinine', 'serum_sodium']\n",
    "scaler = StandardScaler()\n",
    "df[columns_to_scale] = scaler.fit_transform(df[columns_to_scale])\n",
    "\n",
    "X = df.drop(columns=['DEATH_EVENT', 'time'])\n",
    "y = df['DEATH_EVENT']"
   ]
  },
  {
   "cell_type": "code",
   "execution_count": null,
   "id": "94f7bbfe-af6a-4e9f-aaca-c9256988397b",
   "metadata": {},
   "outputs": [
    {
     "data": {
      "text/plain": [
       "299"
      ]
     },
     "execution_count": 4,
     "metadata": {},
     "output_type": "execute_result"
    }
   ],
   "source": [
    "data_list = Data_list(X)\n",
    "results = Parrallel_compute(data_list)\n",
    "\n",
    "X['topo_feature'] = [x.tolist()[0][0] if isinstance(x, np.ndarray) else x for x in results]\n",
    "X['topo_feature'] = scaler.fit_transform(X[['topo_feature']])\n",
    "X.head()"
   ]
  },
  {
   "cell_type": "code",
   "execution_count": 11,
   "id": "dc754c8c-ec4e-4504-af2a-ad67ce442304",
   "metadata": {},
   "outputs": [
    {
     "name": "stdout",
     "output_type": "stream",
     "text": [
      "(299, 11)\n",
      "Precision, Recall, Confusion matrix, in training\n",
      "\n",
      "[[105   3]\n",
      " [ 25  16]]\n",
      "0.8120805369127517\n"
     ]
    }
   ],
   "source": [
    "X_final = X.iloc[:, :11].to_numpy()\n",
    "print(X_final.shape)\n",
    "\n",
    "X_train, X_test, y_train, y_test = train_test_split(\n",
    "    X_final, y, test_size=0.5, random_state=42)\n",
    "\n",
    "log_reg = LogisticRegression(max_iter = 1000)\n",
    "log_reg.fit(X_train, y_train)\n",
    "\n",
    "training_prediction = log_reg.predict(X_train)\n",
    "test_prediction = log_reg.predict(X_test)\n",
    "\n",
    "print(\"Precision, Recall, Confusion matrix, in training\\n\")\n",
    "print(metrics.confusion_matrix(y_train, training_prediction))\n",
    "print(metrics.accuracy_score(y_train, training_prediction))"
   ]
  },
  {
   "cell_type": "code",
   "execution_count": 12,
   "id": "055cd141-1014-44a1-aefa-9735182037c0",
   "metadata": {},
   "outputs": [
    {
     "name": "stdout",
     "output_type": "stream",
     "text": [
      "(299, 12)\n",
      "Precision, Recall, Confusion matrix, in training\n",
      "\n",
      "[[105   3]\n",
      " [ 22  19]]\n",
      "0.8322147651006712\n"
     ]
    }
   ],
   "source": [
    "X_final = X.to_numpy()\n",
    "print(X_final.shape)\n",
    "\n",
    "X_train, X_test, y_train, y_test = train_test_split(\n",
    "    X_final, y, test_size=0.5, random_state=42)\n",
    "\n",
    "log_reg = LogisticRegression(max_iter = 1000)\n",
    "log_reg.fit(X_train, y_train)\n",
    "\n",
    "training_prediction = log_reg.predict(X_train)\n",
    "test_prediction = log_reg.predict(X_test)\n",
    "\n",
    "print(\"Precision, Recall, Confusion matrix, in training\\n\")\n",
    "print(metrics.confusion_matrix(y_train, training_prediction))\n",
    "print(metrics.accuracy_score(y_train, training_prediction))"
   ]
  }
 ],
 "metadata": {
  "kernelspec": {
   "display_name": "DRcomplex",
   "language": "python",
   "name": "python3"
  },
  "language_info": {
   "codemirror_mode": {
    "name": "ipython",
    "version": 3
   },
   "file_extension": ".py",
   "mimetype": "text/x-python",
   "name": "python",
   "nbconvert_exporter": "python",
   "pygments_lexer": "ipython3",
   "version": "3.9.13"
  }
 },
 "nbformat": 4,
 "nbformat_minor": 5
}
