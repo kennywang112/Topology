{
 "cells": [
  {
   "cell_type": "markdown",
   "id": "49ee9994-c204-487d-b4f9-fc95d0461f10",
   "metadata": {},
   "source": [
    "# Struggling with the computation complexity"
   ]
  },
  {
   "cell_type": "code",
   "execution_count": 1,
   "id": "4c2adab9-b194-496b-8d0b-550d01a79f0f",
   "metadata": {},
   "outputs": [],
   "source": [
    "import numpy as np\n",
    "import pandas as pd\n",
    "import ripser\n",
    "import time\n",
    "# import ripserplusplus as rpp_py\n",
    "from persim.persistent_entropy import *\n",
    "from sklearn.model_selection import train_test_split\n",
    "from sklearn.preprocessing import StandardScaler\n",
    "from sklearn.datasets import fetch_california_housing\n",
    "from sklearn.linear_model import LinearRegression\n",
    "from sklearn.metrics import r2_score, mean_squared_error\n",
    "from sklearn.neighbors import NearestNeighbors\n",
    "import subprocess as sp\n",
    "import gc"
   ]
  },
  {
   "cell_type": "code",
   "execution_count": 2,
   "id": "77a0b8d1",
   "metadata": {},
   "outputs": [],
   "source": [
    "def get_gpu_memory():\n",
    "    _output_to_list = lambda x: x.decode('ascii').split('\\n')[:-1]\n",
    "\n",
    "    ACCEPTABLE_AVAILABLE_MEMORY = 1024\n",
    "    COMMAND = \"nvidia-smi --query-gpu=memory.free --format=csv\"\n",
    "    memory_free_info = _output_to_list(sp.check_output(COMMAND.split()))[1:]\n",
    "    memory_free_values = [int(x.split()[0]) for i, x in enumerate(memory_free_info)]\n",
    "    #print(\"free GPU memory (mega): \",memory_free_values)\n",
    "    print(\"free GPU memory (MiB):\")\n",
    "    print(memory_free_info[0])\n",
    "    return memory_free_values"
   ]
  },
  {
   "cell_type": "code",
   "execution_count": 3,
   "id": "802291b0-0e9f-461b-a691-c7dd332c78aa",
   "metadata": {},
   "outputs": [],
   "source": [
    "import ssl\n",
    "ssl._create_default_https_context = ssl._create_unverified_context\n",
    "\n",
    "housing = fetch_california_housing()\n",
    "\n",
    "X_all = pd.DataFrame(housing.data, columns = housing.feature_names)\n",
    "y_all = housing['target']\n",
    "\n",
    "X_all = X_all.iloc[:1000]\n",
    "y_all = y_all[:1000]"
   ]
  },
  {
   "cell_type": "code",
   "execution_count": 4,
   "id": "5c5bd88d-7a3f-4cfb-aa4f-6f793dee237b",
   "metadata": {},
   "outputs": [
    {
     "data": {
      "text/html": [
       "<div>\n",
       "<style scoped>\n",
       "    .dataframe tbody tr th:only-of-type {\n",
       "        vertical-align: middle;\n",
       "    }\n",
       "\n",
       "    .dataframe tbody tr th {\n",
       "        vertical-align: top;\n",
       "    }\n",
       "\n",
       "    .dataframe thead th {\n",
       "        text-align: right;\n",
       "    }\n",
       "</style>\n",
       "<table border=\"1\" class=\"dataframe\">\n",
       "  <thead>\n",
       "    <tr style=\"text-align: right;\">\n",
       "      <th></th>\n",
       "      <th>MedInc</th>\n",
       "      <th>HouseAge</th>\n",
       "      <th>AveRooms</th>\n",
       "      <th>AveBedrms</th>\n",
       "      <th>Population</th>\n",
       "      <th>AveOccup</th>\n",
       "      <th>Latitude</th>\n",
       "      <th>Longitude</th>\n",
       "    </tr>\n",
       "  </thead>\n",
       "  <tbody>\n",
       "    <tr>\n",
       "      <th>0</th>\n",
       "      <td>2.475751</td>\n",
       "      <td>0.266201</td>\n",
       "      <td>1.500473</td>\n",
       "      <td>-0.266636</td>\n",
       "      <td>-0.900449</td>\n",
       "      <td>-0.219674</td>\n",
       "      <td>1.441017</td>\n",
       "      <td>-0.640477</td>\n",
       "    </tr>\n",
       "    <tr>\n",
       "      <th>1</th>\n",
       "      <td>2.462605</td>\n",
       "      <td>-1.251479</td>\n",
       "      <td>0.863503</td>\n",
       "      <td>-0.751121</td>\n",
       "      <td>1.186500</td>\n",
       "      <td>-0.830714</td>\n",
       "      <td>1.235934</td>\n",
       "      <td>-0.554449</td>\n",
       "    </tr>\n",
       "    <tr>\n",
       "      <th>2</th>\n",
       "      <td>1.885951</td>\n",
       "      <td>1.100925</td>\n",
       "      <td>2.613913</td>\n",
       "      <td>0.196463</td>\n",
       "      <td>-0.725783</td>\n",
       "      <td>0.118538</td>\n",
       "      <td>1.133393</td>\n",
       "      <td>-0.726504</td>\n",
       "    </tr>\n",
       "    <tr>\n",
       "      <th>3</th>\n",
       "      <td>0.994291</td>\n",
       "      <td>1.100925</td>\n",
       "      <td>0.504211</td>\n",
       "      <td>0.192853</td>\n",
       "      <td>-0.663546</td>\n",
       "      <td>-0.230108</td>\n",
       "      <td>1.133393</td>\n",
       "      <td>-0.812532</td>\n",
       "    </tr>\n",
       "    <tr>\n",
       "      <th>4</th>\n",
       "      <td>0.001771</td>\n",
       "      <td>1.100925</td>\n",
       "      <td>0.900830</td>\n",
       "      <td>0.267694</td>\n",
       "      <td>-0.656520</td>\n",
       "      <td>-0.732521</td>\n",
       "      <td>1.133393</td>\n",
       "      <td>-0.812532</td>\n",
       "    </tr>\n",
       "    <tr>\n",
       "      <th>...</th>\n",
       "      <td>...</td>\n",
       "      <td>...</td>\n",
       "      <td>...</td>\n",
       "      <td>...</td>\n",
       "      <td>...</td>\n",
       "      <td>...</td>\n",
       "      <td>...</td>\n",
       "      <td>...</td>\n",
       "    </tr>\n",
       "    <tr>\n",
       "      <th>995</th>\n",
       "      <td>0.563070</td>\n",
       "      <td>-2.010319</td>\n",
       "      <td>0.386932</td>\n",
       "      <td>-0.071678</td>\n",
       "      <td>4.624595</td>\n",
       "      <td>0.035443</td>\n",
       "      <td>-0.302190</td>\n",
       "      <td>3.488856</td>\n",
       "    </tr>\n",
       "    <tr>\n",
       "      <th>996</th>\n",
       "      <td>2.933043</td>\n",
       "      <td>-0.947943</td>\n",
       "      <td>0.499441</td>\n",
       "      <td>-0.927820</td>\n",
       "      <td>-0.968709</td>\n",
       "      <td>0.373497</td>\n",
       "      <td>0.005435</td>\n",
       "      <td>3.316800</td>\n",
       "    </tr>\n",
       "    <tr>\n",
       "      <th>997</th>\n",
       "      <td>0.493308</td>\n",
       "      <td>-1.175595</td>\n",
       "      <td>0.728664</td>\n",
       "      <td>-0.150441</td>\n",
       "      <td>1.259779</td>\n",
       "      <td>0.003959</td>\n",
       "      <td>-0.404732</td>\n",
       "      <td>3.058717</td>\n",
       "    </tr>\n",
       "    <tr>\n",
       "      <th>998</th>\n",
       "      <td>0.877910</td>\n",
       "      <td>-1.555015</td>\n",
       "      <td>0.639530</td>\n",
       "      <td>-0.812918</td>\n",
       "      <td>1.006816</td>\n",
       "      <td>0.878353</td>\n",
       "      <td>-0.507273</td>\n",
       "      <td>3.058717</td>\n",
       "    </tr>\n",
       "    <tr>\n",
       "      <th>999</th>\n",
       "      <td>0.604552</td>\n",
       "      <td>-1.934435</td>\n",
       "      <td>0.638754</td>\n",
       "      <td>0.447127</td>\n",
       "      <td>-0.418613</td>\n",
       "      <td>-0.276498</td>\n",
       "      <td>-0.507273</td>\n",
       "      <td>2.886661</td>\n",
       "    </tr>\n",
       "  </tbody>\n",
       "</table>\n",
       "<p>1000 rows × 8 columns</p>\n",
       "</div>"
      ],
      "text/plain": [
       "       MedInc  HouseAge  AveRooms  AveBedrms  Population  AveOccup  Latitude  \\\n",
       "0    2.475751  0.266201  1.500473  -0.266636   -0.900449 -0.219674  1.441017   \n",
       "1    2.462605 -1.251479  0.863503  -0.751121    1.186500 -0.830714  1.235934   \n",
       "2    1.885951  1.100925  2.613913   0.196463   -0.725783  0.118538  1.133393   \n",
       "3    0.994291  1.100925  0.504211   0.192853   -0.663546 -0.230108  1.133393   \n",
       "4    0.001771  1.100925  0.900830   0.267694   -0.656520 -0.732521  1.133393   \n",
       "..        ...       ...       ...        ...         ...       ...       ...   \n",
       "995  0.563070 -2.010319  0.386932  -0.071678    4.624595  0.035443 -0.302190   \n",
       "996  2.933043 -0.947943  0.499441  -0.927820   -0.968709  0.373497  0.005435   \n",
       "997  0.493308 -1.175595  0.728664  -0.150441    1.259779  0.003959 -0.404732   \n",
       "998  0.877910 -1.555015  0.639530  -0.812918    1.006816  0.878353 -0.507273   \n",
       "999  0.604552 -1.934435  0.638754   0.447127   -0.418613 -0.276498 -0.507273   \n",
       "\n",
       "     Longitude  \n",
       "0    -0.640477  \n",
       "1    -0.554449  \n",
       "2    -0.726504  \n",
       "3    -0.812532  \n",
       "4    -0.812532  \n",
       "..         ...  \n",
       "995   3.488856  \n",
       "996   3.316800  \n",
       "997   3.058717  \n",
       "998   3.058717  \n",
       "999   2.886661  \n",
       "\n",
       "[1000 rows x 8 columns]"
      ]
     },
     "execution_count": 4,
     "metadata": {},
     "output_type": "execute_result"
    }
   ],
   "source": [
    "scaler = StandardScaler()\n",
    "scaler.fit(X_all)\n",
    "X_scaled = pd.DataFrame(scaler.transform(X_all), index= X_all.index, columns= X_all.columns)\n",
    "# X_final = X.iloc[:, :8].to_numpy()\n",
    "\n",
    "X_scaled"
   ]
  },
  {
   "cell_type": "code",
   "execution_count": 5,
   "id": "de9be255-f7e1-41a4-8c70-ef2064069de5",
   "metadata": {},
   "outputs": [
    {
     "name": "stdout",
     "output_type": "stream",
     "text": [
      "RMSE: 0.5137944706615996\n",
      "R-square: 0.6499318732684514\n"
     ]
    }
   ],
   "source": [
    "X_train, X_test, y_train, y_test = train_test_split(\n",
    "    X_scaled, y_all, test_size=0.5, random_state=43)\n",
    "\n",
    "lr = LinearRegression()\n",
    "lr.fit(X_train, y_train)\n",
    "predictions_lr = lr.predict(X_test)\n",
    "\n",
    "rmse = np.sqrt(mean_squared_error(y_test, predictions_lr))\n",
    "r2 = r2_score(y_test, predictions_lr)\n",
    "\n",
    "print('RMSE:', rmse)\n",
    "print('R-square:', r2)"
   ]
  },
  {
   "cell_type": "markdown",
   "id": "7de9d8d5-cf1d-4b71-9d6a-d609d1504901",
   "metadata": {},
   "source": [
    "# Add Entropy featureX"
   ]
  },
  {
   "cell_type": "markdown",
   "id": "d10eab27-8747-4105-8bb3-86f2b2cdd340",
   "metadata": {},
   "source": [
    "### reset for the index drop"
   ]
  },
  {
   "cell_type": "code",
   "execution_count": 13,
   "id": "d4729f88-2d92-41fd-8629-e42fa995a8d0",
   "metadata": {},
   "outputs": [],
   "source": [
    "from sklearn.decomposition import PCA\n",
    "\n",
    "pca = PCA(n_components=2)"
   ]
  },
  {
   "cell_type": "markdown",
   "id": "ebede2f1-5dc2-4269-9e9f-ff913077a09f",
   "metadata": {},
   "source": [
    "### Full ripser ++"
   ]
  },
  {
   "cell_type": "code",
   "execution_count": 39,
   "id": "243f32de-f09d-4037-8293-aa9478fa88b1",
   "metadata": {
    "tags": []
   },
   "outputs": [
    {
     "ename": "NameError",
     "evalue": "name 'rpp_py' is not defined",
     "output_type": "error",
     "traceback": [
      "\u001b[0;31m---------------------------------------------------------------------------\u001b[0m",
      "\u001b[0;31mNameError\u001b[0m                                 Traceback (most recent call last)",
      "\u001b[0;32m/var/folders/w2/_g9w5yys0f171q4qqm469z1h0000gn/T/ipykernel_56709/2721002029.py\u001b[0m in \u001b[0;36m<module>\u001b[0;34m\u001b[0m\n\u001b[1;32m     11\u001b[0m     \u001b[0mdata_remove\u001b[0m \u001b[0;34m=\u001b[0m \u001b[0mX_scaled\u001b[0m\u001b[0;34m.\u001b[0m\u001b[0mdrop\u001b[0m\u001b[0;34m(\u001b[0m\u001b[0mindex\u001b[0m\u001b[0;34m=\u001b[0m\u001b[0mi\u001b[0m\u001b[0;34m)\u001b[0m\u001b[0;34m\u001b[0m\u001b[0;34m\u001b[0m\u001b[0m\n\u001b[1;32m     12\u001b[0m     \u001b[0mpca_result\u001b[0m \u001b[0;34m=\u001b[0m \u001b[0mpca\u001b[0m\u001b[0;34m.\u001b[0m\u001b[0mfit_transform\u001b[0m\u001b[0;34m(\u001b[0m\u001b[0mdata_remove\u001b[0m\u001b[0;34m)\u001b[0m\u001b[0;34m\u001b[0m\u001b[0;34m\u001b[0m\u001b[0m\n\u001b[0;32m---> 13\u001b[0;31m     \u001b[0md\u001b[0m \u001b[0;34m=\u001b[0m \u001b[0mrpp_py\u001b[0m\u001b[0;34m.\u001b[0m\u001b[0mrun\u001b[0m\u001b[0;34m(\u001b[0m\u001b[0;34m\"--format point-cloud --dim 1 --threshold 1\"\u001b[0m\u001b[0;34m,\u001b[0m\u001b[0mpca_result\u001b[0m\u001b[0;34m)\u001b[0m\u001b[0;34m\u001b[0m\u001b[0;34m\u001b[0m\u001b[0m\n\u001b[0m\u001b[1;32m     14\u001b[0m     \u001b[0mdgm\u001b[0m \u001b[0;34m=\u001b[0m \u001b[0mnp\u001b[0m\u001b[0;34m.\u001b[0m\u001b[0marray\u001b[0m\u001b[0;34m(\u001b[0m\u001b[0;34m[\u001b[0m\u001b[0;34m(\u001b[0m\u001b[0mb\u001b[0m\u001b[0;34m,\u001b[0m \u001b[0md\u001b[0m\u001b[0;34m)\u001b[0m \u001b[0;32mfor\u001b[0m \u001b[0mb\u001b[0m\u001b[0;34m,\u001b[0m \u001b[0md\u001b[0m \u001b[0;32min\u001b[0m \u001b[0md\u001b[0m\u001b[0;34m[\u001b[0m\u001b[0;36m0\u001b[0m\u001b[0;34m]\u001b[0m\u001b[0;34m]\u001b[0m\u001b[0;34m)\u001b[0m\u001b[0;34m\u001b[0m\u001b[0;34m\u001b[0m\u001b[0m\n\u001b[1;32m     15\u001b[0m     \u001b[0mp_entropy\u001b[0m \u001b[0;34m=\u001b[0m \u001b[0mpersistent_entropy\u001b[0m\u001b[0;34m(\u001b[0m\u001b[0mdgm\u001b[0m\u001b[0;34m)\u001b[0m\u001b[0;34m\u001b[0m\u001b[0;34m\u001b[0m\u001b[0m\n",
      "\u001b[0;31mNameError\u001b[0m: name 'rpp_py' is not defined"
     ]
    }
   ],
   "source": [
    "entropy_feature = []\n",
    "\n",
    "start = time.time()\n",
    "for i in range(X_scaled.shape[0]):\n",
    "    if (i + 1) % 30 == 0:\n",
    "        print(f\"Processing row {i + 1} out of {X_scaled.shape[0]}\")\n",
    "        \n",
    "        get_gpu_memory()\n",
    "        gc.collect()\n",
    "        \n",
    "    data_remove = X_scaled.drop(index=i)\n",
    "    pca_result = pca.fit_transform(data_remove)\n",
    "    d = rpp_py.run(\"--format point-cloud --dim 1 --threshold 1\",pca_result)\n",
    "    dgm = np.array([(b, d) for b, d in d[0]])\n",
    "    p_entropy = persistent_entropy(dgm)\n",
    "    \n",
    "    entropy_feature.append(p_entropy)\n",
    "    \n",
    "end = time.time()\n",
    "print(\"ripser++ total time: \", end-start)"
   ]
  },
  {
   "cell_type": "code",
   "execution_count": 10,
   "id": "75592d9d-4d58-46b2-923d-9b32d5cc482f",
   "metadata": {},
   "outputs": [
    {
     "data": {
      "text/html": [
       "<div>\n",
       "<style scoped>\n",
       "    .dataframe tbody tr th:only-of-type {\n",
       "        vertical-align: middle;\n",
       "    }\n",
       "\n",
       "    .dataframe tbody tr th {\n",
       "        vertical-align: top;\n",
       "    }\n",
       "\n",
       "    .dataframe thead th {\n",
       "        text-align: right;\n",
       "    }\n",
       "</style>\n",
       "<table border=\"1\" class=\"dataframe\">\n",
       "  <thead>\n",
       "    <tr style=\"text-align: right;\">\n",
       "      <th></th>\n",
       "      <th>MedInc</th>\n",
       "      <th>HouseAge</th>\n",
       "      <th>AveRooms</th>\n",
       "      <th>AveBedrms</th>\n",
       "      <th>Population</th>\n",
       "      <th>AveOccup</th>\n",
       "      <th>Latitude</th>\n",
       "      <th>Longitude</th>\n",
       "      <th>topo_feature</th>\n",
       "    </tr>\n",
       "  </thead>\n",
       "  <tbody>\n",
       "    <tr>\n",
       "      <th>0</th>\n",
       "      <td>2.642119</td>\n",
       "      <td>0.828791</td>\n",
       "      <td>0.281990</td>\n",
       "      <td>-0.123927</td>\n",
       "      <td>-0.997996</td>\n",
       "      <td>-0.331205</td>\n",
       "      <td>0.202650</td>\n",
       "      <td>-0.604776</td>\n",
       "      <td>-0.207338</td>\n",
       "    </tr>\n",
       "    <tr>\n",
       "      <th>1</th>\n",
       "      <td>2.629035</td>\n",
       "      <td>-0.649917</td>\n",
       "      <td>0.111970</td>\n",
       "      <td>-0.179877</td>\n",
       "      <td>1.296598</td>\n",
       "      <td>-0.881856</td>\n",
       "      <td>0.189239</td>\n",
       "      <td>-0.598947</td>\n",
       "      <td>-0.056716</td>\n",
       "    </tr>\n",
       "    <tr>\n",
       "      <th>2</th>\n",
       "      <td>2.055091</td>\n",
       "      <td>1.642080</td>\n",
       "      <td>0.579190</td>\n",
       "      <td>-0.070446</td>\n",
       "      <td>-0.805952</td>\n",
       "      <td>-0.026418</td>\n",
       "      <td>0.182533</td>\n",
       "      <td>-0.610606</td>\n",
       "      <td>-0.213089</td>\n",
       "    </tr>\n",
       "    <tr>\n",
       "      <th>3</th>\n",
       "      <td>1.167623</td>\n",
       "      <td>1.642080</td>\n",
       "      <td>0.016067</td>\n",
       "      <td>-0.070863</td>\n",
       "      <td>-0.737523</td>\n",
       "      <td>-0.340607</td>\n",
       "      <td>0.182533</td>\n",
       "      <td>-0.616435</td>\n",
       "      <td>-0.127761</td>\n",
       "    </tr>\n",
       "    <tr>\n",
       "      <th>4</th>\n",
       "      <td>0.179770</td>\n",
       "      <td>1.642080</td>\n",
       "      <td>0.121933</td>\n",
       "      <td>-0.062220</td>\n",
       "      <td>-0.729797</td>\n",
       "      <td>-0.793367</td>\n",
       "      <td>0.182533</td>\n",
       "      <td>-0.616435</td>\n",
       "      <td>-0.084355</td>\n",
       "    </tr>\n",
       "  </tbody>\n",
       "</table>\n",
       "</div>"
      ],
      "text/plain": [
       "     MedInc  HouseAge  AveRooms  AveBedrms  Population  AveOccup  Latitude  \\\n",
       "0  2.642119  0.828791  0.281990  -0.123927   -0.997996 -0.331205  0.202650   \n",
       "1  2.629035 -0.649917  0.111970  -0.179877    1.296598 -0.881856  0.189239   \n",
       "2  2.055091  1.642080  0.579190  -0.070446   -0.805952 -0.026418  0.182533   \n",
       "3  1.167623  1.642080  0.016067  -0.070863   -0.737523 -0.340607  0.182533   \n",
       "4  0.179770  1.642080  0.121933  -0.062220   -0.729797 -0.793367  0.182533   \n",
       "\n",
       "   Longitude  topo_feature  \n",
       "0  -0.604776     -0.207338  \n",
       "1  -0.598947     -0.056716  \n",
       "2  -0.610606     -0.213089  \n",
       "3  -0.616435     -0.127761  \n",
       "4  -0.616435     -0.084355  "
      ]
     },
     "execution_count": 10,
     "metadata": {},
     "output_type": "execute_result"
    }
   ],
   "source": [
    "X_scaled['topo_feature'] = [x.tolist()[0] if isinstance(x, np.ndarray) else x for x in entropy_feature]\n",
    "X_scaled['topo_feature'] = scaler.fit_transform(X_scaled[['topo_feature']])\n",
    "X_scaled.head()"
   ]
  },
  {
   "cell_type": "code",
   "execution_count": 11,
   "id": "2009f6e8-a984-4bbc-a612-af095cf270a5",
   "metadata": {},
   "outputs": [],
   "source": [
    "X_train, X_test, y_train, y_test = train_test_split(\n",
    "    X_scaled, y_all, test_size=0.5, random_state=42)\n",
    "\n",
    "X_train = X_train.reset_index(drop=True)\n",
    "X_test = X_test.reset_index(drop=True)\n",
    "y_train = pd.Series(y_train).reset_index(drop=True)\n",
    "y_test = pd.Series(y_test).reset_index(drop=True)"
   ]
  },
  {
   "cell_type": "code",
   "execution_count": 12,
   "id": "7d1fb7af-b240-4ac0-8ded-3ec7f5a93c5e",
   "metadata": {},
   "outputs": [
    {
     "name": "stdout",
     "output_type": "stream",
     "text": [
      "RMSE: 0.5065670208025156\n",
      "R-square: 0.7211150838116289\n"
     ]
    }
   ],
   "source": [
    "lr = LinearRegression()\n",
    "lr.fit(X_train, y_train)\n",
    "predictions_lr = lr.predict(X_test)\n",
    "\n",
    "rmse = np.sqrt(mean_squared_error(y_test, predictions_lr))\n",
    "r2 = r2_score(y_test, predictions_lr)\n",
    "\n",
    "print('RMSE:', rmse)\n",
    "print('R-square:', r2)"
   ]
  },
  {
   "cell_type": "markdown",
   "id": "2ccce059-4c85-45e7-b24b-deb9b5e3d548",
   "metadata": {},
   "source": [
    "## Parallel"
   ]
  },
  {
   "cell_type": "code",
   "execution_count": 6,
   "id": "f2b6cbb0-0622-4e38-8baa-de84028c8b85",
   "metadata": {},
   "outputs": [],
   "source": [
    "from sklearn.metrics import pairwise_distances\n",
    "import os\n",
    "from joblib import Parallel, delayed"
   ]
  },
  {
   "cell_type": "code",
   "execution_count": 12,
   "id": "f3b149a2-0ef7-4dca-85f6-3b1ea8df0c00",
   "metadata": {
    "tags": []
   },
   "outputs": [
    {
     "name": "stdout",
     "output_type": "stream",
     "text": [
      "Processing row 500 out of 1000\n",
      "Processing row 1000 out of 1000\n",
      "parallel total time:  0.8318099975585938\n"
     ]
    }
   ],
   "source": [
    "start = time.time()\n",
    "data_list = []\n",
    "for i in range(X_scaled.shape[0]):\n",
    "    if (i + 1) % 500 == 0:\n",
    "        print(f\"Processing row {i + 1} out of {X_scaled.shape[0]}\")\n",
    "        \n",
    "        gc.collect()\n",
    "        \n",
    "    data_remove = X_scaled.drop(index=i)\n",
    "    # distances = pairwise_distances(data_remove, metric='euclidean')\n",
    "    data_list.append(data_remove)\n",
    "    \n",
    "end = time.time()\n",
    "\n",
    "print(\"parallel total time: \", end-start)"
   ]
  },
  {
   "cell_type": "code",
   "execution_count": 13,
   "id": "156c3753-bf2c-4055-b161-8034c7af06cc",
   "metadata": {},
   "outputs": [],
   "source": [
    "def compute_distances(data, index):\n",
    "    dist_matrix = pairwise_distances(data, metric='euclidean')\n",
    "    return index, dist_matrix\n",
    "\n",
    "dists = Parallel(n_jobs=-1)(delayed(compute_distances)(data, i) for i, data in enumerate(data_list))"
   ]
  },
  {
   "cell_type": "code",
   "execution_count": 14,
   "id": "c9b702c8-58ce-4370-8293-bf46d5496f51",
   "metadata": {},
   "outputs": [],
   "source": [
    "def compute_persistence(data_remove):\n",
    "    print(f\"進程 {os.getpid()} 開始計算\")\n",
    "    \n",
    "    pca_result = pca.fit_transform(data_remove)\n",
    "    dgm = ripser.ripser(pca_result, maxdim = 0, distance_matrix=True)['dgms'][0]\n",
    "    \n",
    "    p_entropy = persistent_entropy(dgm)\n",
    "\n",
    "    print(f\"進程 {os.getpid()} 完成計算\")\n",
    "    \n",
    "    return p_entropy"
   ]
  },
  {
   "cell_type": "code",
   "execution_count": 15,
   "id": "e39687f5-ff08-42a3-bc90-eac236038e52",
   "metadata": {},
   "outputs": [],
   "source": [
    "# data_list\n",
    "distance_matrices = [pairwise_distances(data, metric='euclidean') for data in data_list]"
   ]
  },
  {
   "cell_type": "code",
   "execution_count": 14,
   "id": "44624a22-d03b-456e-92c3-98f93796bdeb",
   "metadata": {},
   "outputs": [
    {
     "name": "stdout",
     "output_type": "stream",
     "text": [
      "平行運算時間:  907.4925081729889\n"
     ]
    }
   ],
   "source": [
    "if __name__ == \"__main__\":\n",
    "\n",
    "    start_time = time.time()\n",
    "\n",
    "    # 使用 joblib 進行平行運算\n",
    "    results = Parallel(n_jobs=10)(delayed(compute_persistence)(data) for data in data_list)\n",
    "\n",
    "    end_time = time.time()\n",
    "    print(\"平行運算時間: \", end_time - start_time)"
   ]
  },
  {
   "cell_type": "code",
   "execution_count": 15,
   "id": "0564d607-3316-476d-a0bd-a933c7c2f227",
   "metadata": {},
   "outputs": [
    {
     "data": {
      "text/html": [
       "<div>\n",
       "<style scoped>\n",
       "    .dataframe tbody tr th:only-of-type {\n",
       "        vertical-align: middle;\n",
       "    }\n",
       "\n",
       "    .dataframe tbody tr th {\n",
       "        vertical-align: top;\n",
       "    }\n",
       "\n",
       "    .dataframe thead th {\n",
       "        text-align: right;\n",
       "    }\n",
       "</style>\n",
       "<table border=\"1\" class=\"dataframe\">\n",
       "  <thead>\n",
       "    <tr style=\"text-align: right;\">\n",
       "      <th></th>\n",
       "      <th>MedInc</th>\n",
       "      <th>HouseAge</th>\n",
       "      <th>AveRooms</th>\n",
       "      <th>AveBedrms</th>\n",
       "      <th>Population</th>\n",
       "      <th>AveOccup</th>\n",
       "      <th>Latitude</th>\n",
       "      <th>Longitude</th>\n",
       "      <th>topo_feature</th>\n",
       "    </tr>\n",
       "  </thead>\n",
       "  <tbody>\n",
       "    <tr>\n",
       "      <th>0</th>\n",
       "      <td>2.642119</td>\n",
       "      <td>0.828791</td>\n",
       "      <td>0.281990</td>\n",
       "      <td>-0.123927</td>\n",
       "      <td>-0.997996</td>\n",
       "      <td>-0.331205</td>\n",
       "      <td>0.202650</td>\n",
       "      <td>-0.604776</td>\n",
       "      <td>-0.071041</td>\n",
       "    </tr>\n",
       "    <tr>\n",
       "      <th>1</th>\n",
       "      <td>2.629035</td>\n",
       "      <td>-0.649917</td>\n",
       "      <td>0.111970</td>\n",
       "      <td>-0.179877</td>\n",
       "      <td>1.296598</td>\n",
       "      <td>-0.881856</td>\n",
       "      <td>0.189239</td>\n",
       "      <td>-0.598947</td>\n",
       "      <td>-0.019845</td>\n",
       "    </tr>\n",
       "    <tr>\n",
       "      <th>2</th>\n",
       "      <td>2.055091</td>\n",
       "      <td>1.642080</td>\n",
       "      <td>0.579190</td>\n",
       "      <td>-0.070446</td>\n",
       "      <td>-0.805952</td>\n",
       "      <td>-0.026418</td>\n",
       "      <td>0.182533</td>\n",
       "      <td>-0.610606</td>\n",
       "      <td>-0.060085</td>\n",
       "    </tr>\n",
       "    <tr>\n",
       "      <th>3</th>\n",
       "      <td>1.167623</td>\n",
       "      <td>1.642080</td>\n",
       "      <td>0.016067</td>\n",
       "      <td>-0.070863</td>\n",
       "      <td>-0.737523</td>\n",
       "      <td>-0.340607</td>\n",
       "      <td>0.182533</td>\n",
       "      <td>-0.616435</td>\n",
       "      <td>-0.037265</td>\n",
       "    </tr>\n",
       "    <tr>\n",
       "      <th>4</th>\n",
       "      <td>0.179770</td>\n",
       "      <td>1.642080</td>\n",
       "      <td>0.121933</td>\n",
       "      <td>-0.062220</td>\n",
       "      <td>-0.729797</td>\n",
       "      <td>-0.793367</td>\n",
       "      <td>0.182533</td>\n",
       "      <td>-0.616435</td>\n",
       "      <td>-0.032980</td>\n",
       "    </tr>\n",
       "  </tbody>\n",
       "</table>\n",
       "</div>"
      ],
      "text/plain": [
       "     MedInc  HouseAge  AveRooms  AveBedrms  Population  AveOccup  Latitude  \\\n",
       "0  2.642119  0.828791  0.281990  -0.123927   -0.997996 -0.331205  0.202650   \n",
       "1  2.629035 -0.649917  0.111970  -0.179877    1.296598 -0.881856  0.189239   \n",
       "2  2.055091  1.642080  0.579190  -0.070446   -0.805952 -0.026418  0.182533   \n",
       "3  1.167623  1.642080  0.016067  -0.070863   -0.737523 -0.340607  0.182533   \n",
       "4  0.179770  1.642080  0.121933  -0.062220   -0.729797 -0.793367  0.182533   \n",
       "\n",
       "   Longitude  topo_feature  \n",
       "0  -0.604776     -0.071041  \n",
       "1  -0.598947     -0.019845  \n",
       "2  -0.610606     -0.060085  \n",
       "3  -0.616435     -0.037265  \n",
       "4  -0.616435     -0.032980  "
      ]
     },
     "execution_count": 15,
     "metadata": {},
     "output_type": "execute_result"
    }
   ],
   "source": [
    "X_scaled['topo_feature'] = [x.tolist()[0] if isinstance(x, np.ndarray) else x for x in results]\n",
    "X_scaled['topo_feature'] = scaler.fit_transform(X_scaled[['topo_feature']])\n",
    "X_scaled.head()"
   ]
  },
  {
   "cell_type": "code",
   "execution_count": 16,
   "id": "303f41f3-bc9a-478e-8a0d-82be5a4150e4",
   "metadata": {},
   "outputs": [
    {
     "name": "stdout",
     "output_type": "stream",
     "text": [
      "RMSE: 0.50665474264537\n",
      "R-square: 0.7210184868520162\n"
     ]
    }
   ],
   "source": [
    "X_train, X_test, y_train, y_test = train_test_split(\n",
    "    X_scaled, y_all, test_size=0.5, random_state=42)\n",
    "\n",
    "X_train = X_train.reset_index(drop=True)\n",
    "X_test = X_test.reset_index(drop=True)\n",
    "y_train = pd.Series(y_train).reset_index(drop=True)\n",
    "y_test = pd.Series(y_test).reset_index(drop=True)\n",
    "\n",
    "lr = LinearRegression()\n",
    "lr.fit(X_train, y_train)\n",
    "predictions_lr = lr.predict(X_test)\n",
    "\n",
    "rmse = np.sqrt(mean_squared_error(y_test, predictions_lr))\n",
    "r2 = r2_score(y_test, predictions_lr)\n",
    "\n",
    "print('RMSE:', rmse)\n",
    "print('R-square:', r2)"
   ]
  },
  {
   "cell_type": "markdown",
   "id": "a809cde0-3ed7-485e-948d-1d786d3aa433",
   "metadata": {},
   "source": [
    "## Testing"
   ]
  },
  {
   "cell_type": "code",
   "execution_count": 40,
   "id": "05305457-9f1c-4c7b-977f-198d3c3d0e7c",
   "metadata": {},
   "outputs": [],
   "source": [
    "import numpy as np\n",
    "from ripser import ripser\n",
    "from scipy.spatial.distance import pdist, squareform\n",
    "\n",
    "# 模擬資料\n",
    "data = np.random.rand(20000, 2)  # 100個資料點，每個資料點有2個維度\n",
    "\n",
    "# 預計算距離矩陣\n",
    "distance_matrix = squareform(pdist(data))\n",
    "\n",
    "def compute_partial_persistence_diagram(dist_matrix, remove_index, maxdim=0):\n",
    "    # 移除某個資料點，重新計算拓撲結構\n",
    "    dist_matrix_remove = np.delete(distance_matrix, remove_index, axis=0)\n",
    "    dist_matrix_remove = np.delete(dist_matrix_remove, remove_index, axis=1)\n",
    "    \n",
    "    # 計算 persistent homology (僅計算 H0)\n",
    "    result = rpp_py.run(\"--format distance --dim 1\", dist_matrix_remove)\n",
    "    return result[0]  # 回傳H0的Persistence Diagram\n",
    "\n",
    "def leave_one_out_persistence(data, distance_matrix, maxdim=0):\n",
    "    pdgms = []\n",
    "    n_points = data.shape[0]  # 資料點數量\n",
    "    for i in range(n_points):\n",
    "        if (i + 1) % 50 == 0:\n",
    "            print(f\"Calculating persistence diagram by leaving out point {i+1}/{n_points}...\")\n",
    "        pdgm = compute_partial_persistence_diagram(distance_matrix, i, maxdim=maxdim)\n",
    "        pdgms.append(pdgm)\n",
    "    return pdgms"
   ]
  },
  {
   "cell_type": "code",
   "execution_count": null,
   "id": "04c543ad-ddc8-45a1-94d4-99d95f09a87b",
   "metadata": {
    "tags": []
   },
   "outputs": [],
   "source": [
    "start = time.time()\n",
    "\n",
    "all_pdms = leave_one_out_persistence(data, distance_matrix, maxdim=0)\n",
    "all_pdms\n",
    "\n",
    "end = time.time()\n",
    "print(\"ripser++ total time: \", end-start)"
   ]
  }
 ],
 "metadata": {
  "kernelspec": {
   "display_name": "Python 3 (ipykernel)",
   "language": "python",
   "name": "python3"
  },
  "language_info": {
   "codemirror_mode": {
    "name": "ipython",
    "version": 3
   },
   "file_extension": ".py",
   "mimetype": "text/x-python",
   "name": "python",
   "nbconvert_exporter": "python",
   "pygments_lexer": "ipython3",
   "version": "3.9.13"
  }
 },
 "nbformat": 4,
 "nbformat_minor": 5
}
