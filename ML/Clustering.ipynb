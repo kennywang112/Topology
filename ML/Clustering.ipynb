{
 "cells": [
  {
   "cell_type": "code",
   "execution_count": 67,
   "id": "bdbe8651-35cb-420c-ae6b-7a5dd2e7988f",
   "metadata": {},
   "outputs": [],
   "source": [
    "import time\n",
    "import gc\n",
    "import gudhi.representations\n",
    "import numpy as np\n",
    "import pandas as pd\n",
    "import gudhi as gd \n",
    "import subprocess as sp\n",
    "from sklearn.decomposition import PCA\n",
    "from sklearn.neighbors import NearestNeighbors\n",
    "from sklearn.preprocessing import StandardScaler\n",
    "from sklearn.linear_model import LinearRegression\n",
    "from sklearn.model_selection import train_test_split\n",
    "from sklearn.datasets import fetch_california_housing\n",
    "from sklearn.metrics import r2_score, mean_squared_error\n",
    "from persim.persistent_entropy import *\n",
    "from utils import *\n",
    "pca = PCA(n_components=2)"
   ]
  },
  {
   "cell_type": "code",
   "execution_count": 117,
   "id": "bf7b8835-729f-4afa-adeb-b4d77f60dc5f",
   "metadata": {},
   "outputs": [
    {
     "data": {
      "text/html": [
       "<div>\n",
       "<style scoped>\n",
       "    .dataframe tbody tr th:only-of-type {\n",
       "        vertical-align: middle;\n",
       "    }\n",
       "\n",
       "    .dataframe tbody tr th {\n",
       "        vertical-align: top;\n",
       "    }\n",
       "\n",
       "    .dataframe thead th {\n",
       "        text-align: right;\n",
       "    }\n",
       "</style>\n",
       "<table border=\"1\" class=\"dataframe\">\n",
       "  <thead>\n",
       "    <tr style=\"text-align: right;\">\n",
       "      <th></th>\n",
       "      <th>MedInc</th>\n",
       "      <th>HouseAge</th>\n",
       "      <th>AveRooms</th>\n",
       "      <th>AveBedrms</th>\n",
       "      <th>Population</th>\n",
       "      <th>AveOccup</th>\n",
       "      <th>Latitude</th>\n",
       "      <th>Longitude</th>\n",
       "    </tr>\n",
       "  </thead>\n",
       "  <tbody>\n",
       "    <tr>\n",
       "      <th>0</th>\n",
       "      <td>2.344766</td>\n",
       "      <td>0.982143</td>\n",
       "      <td>0.628559</td>\n",
       "      <td>-0.153758</td>\n",
       "      <td>-0.974429</td>\n",
       "      <td>-0.049597</td>\n",
       "      <td>1.052548</td>\n",
       "      <td>-1.327835</td>\n",
       "    </tr>\n",
       "    <tr>\n",
       "      <th>1</th>\n",
       "      <td>2.332238</td>\n",
       "      <td>-0.607019</td>\n",
       "      <td>0.327041</td>\n",
       "      <td>-0.263336</td>\n",
       "      <td>0.861439</td>\n",
       "      <td>-0.092512</td>\n",
       "      <td>1.043185</td>\n",
       "      <td>-1.322844</td>\n",
       "    </tr>\n",
       "    <tr>\n",
       "      <th>2</th>\n",
       "      <td>1.782699</td>\n",
       "      <td>1.856182</td>\n",
       "      <td>1.155620</td>\n",
       "      <td>-0.049016</td>\n",
       "      <td>-0.820777</td>\n",
       "      <td>-0.025843</td>\n",
       "      <td>1.038503</td>\n",
       "      <td>-1.332827</td>\n",
       "    </tr>\n",
       "    <tr>\n",
       "      <th>3</th>\n",
       "      <td>0.932968</td>\n",
       "      <td>1.856182</td>\n",
       "      <td>0.156966</td>\n",
       "      <td>-0.049833</td>\n",
       "      <td>-0.766028</td>\n",
       "      <td>-0.050329</td>\n",
       "      <td>1.038503</td>\n",
       "      <td>-1.337818</td>\n",
       "    </tr>\n",
       "    <tr>\n",
       "      <th>4</th>\n",
       "      <td>-0.012881</td>\n",
       "      <td>1.856182</td>\n",
       "      <td>0.344711</td>\n",
       "      <td>-0.032906</td>\n",
       "      <td>-0.759847</td>\n",
       "      <td>-0.085616</td>\n",
       "      <td>1.038503</td>\n",
       "      <td>-1.337818</td>\n",
       "    </tr>\n",
       "  </tbody>\n",
       "</table>\n",
       "</div>"
      ],
      "text/plain": [
       "     MedInc  HouseAge  AveRooms  AveBedrms  Population  AveOccup  Latitude  \\\n",
       "0  2.344766  0.982143  0.628559  -0.153758   -0.974429 -0.049597  1.052548   \n",
       "1  2.332238 -0.607019  0.327041  -0.263336    0.861439 -0.092512  1.043185   \n",
       "2  1.782699  1.856182  1.155620  -0.049016   -0.820777 -0.025843  1.038503   \n",
       "3  0.932968  1.856182  0.156966  -0.049833   -0.766028 -0.050329  1.038503   \n",
       "4 -0.012881  1.856182  0.344711  -0.032906   -0.759847 -0.085616  1.038503   \n",
       "\n",
       "   Longitude  \n",
       "0  -1.327835  \n",
       "1  -1.322844  \n",
       "2  -1.332827  \n",
       "3  -1.337818  \n",
       "4  -1.337818  "
      ]
     },
     "execution_count": 117,
     "metadata": {},
     "output_type": "execute_result"
    }
   ],
   "source": [
    "import ssl\n",
    "ssl._create_default_https_context = ssl._create_unverified_context\n",
    "\n",
    "housing = fetch_california_housing()\n",
    "\n",
    "X_all = pd.DataFrame(housing.data, columns = housing.feature_names)\n",
    "y_all = housing['target']\n",
    "\n",
    "scaler = StandardScaler()\n",
    "scaler.fit(X_all)\n",
    "X_scaled = pd.DataFrame(scaler.transform(X_all), index= X_all.index, columns= X_all.columns)\n",
    "\n",
    "pca_result = pca.fit_transform(X_scaled)\n",
    "pca_result = pd.DataFrame(pca_result)\n",
    "X_scaled.head()"
   ]
  },
  {
   "cell_type": "code",
   "execution_count": 118,
   "id": "31dd684c-12c1-48e2-b7f9-750ff5d39fcb",
   "metadata": {},
   "outputs": [
    {
     "name": "stdout",
     "output_type": "stream",
     "text": [
      "Cluster labels: [3 3 3 ... 3 3 3]\n"
     ]
    }
   ],
   "source": [
    "from sklearn.cluster import KMeans\n",
    "from scipy.cluster.hierarchy import linkage, fcluster\n",
    "\n",
    "Z = linkage(pca_result, method='ward')\n",
    "hierarchical_labels = fcluster(Z, t=5, criterion='maxclust')\n",
    "\n",
    "print(\"Cluster labels:\", hierarchical_labels)"
   ]
  },
  {
   "cell_type": "code",
   "execution_count": 119,
   "id": "8f16bbd0-bbca-4096-9f7e-95aafea7960a",
   "metadata": {},
   "outputs": [
    {
     "data": {
      "text/plain": [
       "3    9461\n",
       "2    8548\n",
       "1    2512\n",
       "5     117\n",
       "4       2\n",
       "dtype: int64"
      ]
     },
     "execution_count": 119,
     "metadata": {},
     "output_type": "execute_result"
    }
   ],
   "source": [
    "labels_series = pd.Series(hierarchical_labels)\n",
    "\n",
    "labels_series.value_counts()"
   ]
  },
  {
   "cell_type": "code",
   "execution_count": 145,
   "id": "fc9a717a-ef09-41da-9e2b-4a72c1010368",
   "metadata": {},
   "outputs": [
    {
     "name": "stdout",
     "output_type": "stream",
     "text": [
      "(2512, 3)\n",
      "(8548, 3)\n",
      "(9461, 3)\n",
      "(2, 3)\n",
      "(117, 3)\n"
     ]
    }
   ],
   "source": [
    "pca_result = pd.DataFrame(pca_result)\n",
    "pca_result['label'] = hierarchical_labels\n",
    "pca_result['y_all'] = y_all\n",
    "\n",
    "group_0 = pca_result[pca_result['label'] == 1]\n",
    "group_1 = pca_result[pca_result['label'] == 2]\n",
    "group_2 = pca_result[pca_result['label'] == 3]\n",
    "group_3 = pca_result[pca_result['label'] == 4]\n",
    "group_4 = pca_result[pca_result['label'] == 5]\n",
    "\n",
    "group_0 = group_0.drop(columns=['label'])\n",
    "group_1 = group_1.drop(columns=['label'])\n",
    "group_2 = group_2.drop(columns=['label'])\n",
    "group_3 = group_3.drop(columns=['label'])\n",
    "group_4 = group_4.drop(columns=['label'])\n",
    "\n",
    "group_0 = group_0.reset_index(drop=True)\n",
    "group_1 = group_1.reset_index(drop=True)\n",
    "group_2 = group_2.reset_index(drop=True)\n",
    "group_3 = group_3.reset_index(drop=True)\n",
    "group_4 = group_4.reset_index(drop=True)\n",
    "\n",
    "print(group_0.shape)\n",
    "print(group_1.shape)\n",
    "print(group_2.shape)\n",
    "print(group_3.shape)\n",
    "print(group_4.shape)"
   ]
  },
  {
   "cell_type": "code",
   "execution_count": 146,
   "id": "b1996a7a-b487-412f-a52d-0bcebfa1e653",
   "metadata": {
    "scrolled": true
   },
   "outputs": [
    {
     "name": "stdout",
     "output_type": "stream",
     "text": [
      "平行運算時間:  0.13063406944274902\n"
     ]
    }
   ],
   "source": [
    "# lst = [group_0, group_1, group_2, group_3, group_4]\n",
    "lst = [group_4]\n",
    "rmses = []\n",
    "rsquares = []\n",
    "\n",
    "for group in lst:\n",
    "    \n",
    "    data_list = Data_list(group.drop(columns = ['y_all']))\n",
    "    results = Parrallel_compute(data_list, typeComplex='Alpha')\n",
    "\n",
    "    data = X_scaled[pca_result['label'] == 5].copy()\n",
    "    data['topo_feature'] = [x.tolist()[0][0] if isinstance(x, np.ndarray) else x for x in results]\n",
    "    data['topo_feature'] = scaler.fit_transform(data[['topo_feature']])\n",
    "\n",
    "    X_train, X_test, y_train, y_test = train_test_split(\n",
    "        data, group['y_all'], test_size=0.5, random_state=42)\n",
    "    \n",
    "    X_train = X_train.reset_index(drop=True)\n",
    "    X_test = X_test.reset_index(drop=True)\n",
    "    y_train = pd.Series(y_train).reset_index(drop=True)\n",
    "    y_test = pd.Series(y_test).reset_index(drop=True)\n",
    "    \n",
    "    lr = LinearRegression()\n",
    "    lr.fit(X_train, y_train)\n",
    "    predictions_lr = lr.predict(X_test)\n",
    "    \n",
    "    rmse = np.sqrt(mean_squared_error(y_test, predictions_lr))\n",
    "    r2 = r2_score(y_test, predictions_lr)\n",
    "\n",
    "    rmses.append(rmse)\n",
    "    rsquares.append(r2)"
   ]
  },
  {
   "cell_type": "code",
   "execution_count": 147,
   "id": "3b9ccf74-ca81-4347-a87b-075784d60a28",
   "metadata": {},
   "outputs": [
    {
     "name": "stdout",
     "output_type": "stream",
     "text": [
      "[1.1590494740486847]\n",
      "[-1.7406897764527551]\n"
     ]
    }
   ],
   "source": [
    "print(rmses)\n",
    "print(rsquares)"
   ]
  }
 ],
 "metadata": {
  "kernelspec": {
   "display_name": "Python 3 (ipykernel)",
   "language": "python",
   "name": "python3"
  },
  "language_info": {
   "codemirror_mode": {
    "name": "ipython",
    "version": 3
   },
   "file_extension": ".py",
   "mimetype": "text/x-python",
   "name": "python",
   "nbconvert_exporter": "python",
   "pygments_lexer": "ipython3",
   "version": "3.9.13"
  }
 },
 "nbformat": 4,
 "nbformat_minor": 5
}
