{
 "cells": [
  {
   "cell_type": "code",
   "execution_count": 1,
   "id": "900209fc-ca1c-4a30-9331-c1736bf98745",
   "metadata": {},
   "outputs": [],
   "source": [
    "import ripser\n",
    "import time\n",
    "import numpy as np\n",
    "import os\n",
    "from concurrent.futures import ThreadPoolExecutor\n",
    "from sklearn.metrics import pairwise_distances\n",
    "import multiprocessing\n",
    "from utils import compute_persistence"
   ]
  },
  {
   "cell_type": "code",
   "execution_count": 4,
   "id": "a1378ccb-2163-46e3-aacb-0c128ac35839",
   "metadata": {},
   "outputs": [],
   "source": [
    "data = np.random.rand(20000, 2)\n",
    "distances = pairwise_distances(data, metric='euclidean')"
   ]
  },
  {
   "cell_type": "code",
   "execution_count": 3,
   "id": "991793d3-6cea-4683-968c-683b9047eb55",
   "metadata": {},
   "outputs": [],
   "source": [
    "# def compute_persistence(data_remove):\n",
    "#     print(f\"進程 {os.getpid()} 開始計算\")\n",
    "#     result = ripser.ripser(data_remove, distance_matrix=True, maxdim = 0)['dgms'][0]\n",
    "#     print(f\"進程 {os.getpid()} 完成計算\")\n",
    "#     return result"
   ]
  },
  {
   "cell_type": "code",
   "execution_count": 5,
   "id": "26e306d9-94ba-47c4-a28e-be286c770afe",
   "metadata": {},
   "outputs": [
    {
     "name": "stdout",
     "output_type": "stream",
     "text": [
      "進程 86857 開始計算\n",
      "進程 86857 完成計算\n",
      "串行運算時間:  142.06536865234375\n"
     ]
    }
   ],
   "source": [
    "start_time = time.time()\n",
    "\n",
    "# 串行運算\n",
    "result1 = compute_persistence(distances)\n",
    "# result2 = compute_persistence(distances)\n",
    "\n",
    "end_time = time.time()\n",
    "print(\"串行運算時間: \", end_time - start_time)"
   ]
  },
  {
   "cell_type": "code",
   "execution_count": 22,
   "id": "1768d95c-2f68-4d27-9b3c-42d6cb5f7062",
   "metadata": {},
   "outputs": [
    {
     "name": "stdout",
     "output_type": "stream",
     "text": [
      "進程 73008 開始計算\n",
      "進程 73008 開始計算\n",
      "進程 73008 完成計算進程 73008 完成計算\n",
      "\n",
      "平行運算時間:  43.77457308769226\n"
     ]
    }
   ],
   "source": [
    "if __name__ == \"__main__\":\n",
    "    data_list = [distances, distances]\n",
    "\n",
    "    start_time = time.time()\n",
    "\n",
    "    # 使用 ThreadPoolExecutor 平行運算\n",
    "    with ThreadPoolExecutor(max_workers=10) as executor:\n",
    "        results = list(executor.map(compute_persistence, data_list))\n",
    "\n",
    "    end_time = time.time()\n",
    "    print(\"平行運算時間: \", end_time - start_time)"
   ]
  },
  {
   "cell_type": "code",
   "execution_count": 5,
   "id": "b51fe888-0866-417c-ad76-6a28d1e291a5",
   "metadata": {},
   "outputs": [
    {
     "data": {
      "text/plain": [
       "12"
      ]
     },
     "execution_count": 5,
     "metadata": {},
     "output_type": "execute_result"
    }
   ],
   "source": [
    "import os\n",
    "os.cpu_count()"
   ]
  },
  {
   "cell_type": "code",
   "execution_count": 29,
   "id": "2ed07c3f-ccdc-41a6-a5a6-900221c7ca6c",
   "metadata": {},
   "outputs": [],
   "source": [
    "# import cProfile\n",
    "\n",
    "# cProfile.run('compute_persistence(data)')"
   ]
  },
  {
   "cell_type": "code",
   "execution_count": 23,
   "id": "81ac2f69-df09-4f04-8fac-0472443f4cb4",
   "metadata": {},
   "outputs": [],
   "source": [
    "import multiprocessing\n",
    "\n",
    "if __name__ == \"__main__\":\n",
    "    multiprocessing.set_start_method('spawn', force=True)  # 設置進程啟動方式為 'spawn'"
   ]
  },
  {
   "cell_type": "code",
   "execution_count": 24,
   "id": "63347807-f6ed-4139-bd5f-44f2a3e0b28a",
   "metadata": {},
   "outputs": [
    {
     "name": "stdout",
     "output_type": "stream",
     "text": [
      "可以序列化\n"
     ]
    }
   ],
   "source": [
    "import pickle\n",
    "\n",
    "try:\n",
    "    pickle.dumps(distances)  # 將 distances 對象進行序列化測試\n",
    "    print(\"可以序列化\")\n",
    "except pickle.PicklingError:\n",
    "    print(\"無法序列化\")"
   ]
  },
  {
   "cell_type": "code",
   "execution_count": 21,
   "id": "82373382-34aa-45d1-921a-c97c6c3f48da",
   "metadata": {
    "tags": []
   },
   "outputs": [
    {
     "name": "stderr",
     "output_type": "stream",
     "text": [
      "Python(83738) MallocStackLogging: can't turn off malloc stack logging because it was not enabled.\n",
      "Python(83745) MallocStackLogging: can't turn off malloc stack logging because it was not enabled.\n"
     ]
    },
    {
     "name": "stdout",
     "output_type": "stream",
     "text": [
      "進程 83738 開始計算\n",
      "進程 83738 完成計算\n",
      "進程 83745 開始計算\n",
      "進程 83745 完成計算\n",
      "平行運算時間:  34.574379205703735\n"
     ]
    }
   ],
   "source": [
    "from concurrent.futures import ProcessPoolExecutor\n",
    "\n",
    "lst = []\n",
    "data_list = [distances] * 2\n",
    "\n",
    "def main():\n",
    "    start_time = time.time()\n",
    "\n",
    "    # Use ProcessPoolExecutor to run parallel computations\n",
    "    with ProcessPoolExecutor(max_workers=10) as executor:\n",
    "        result = executor.map(compute_persistence, data_list)\n",
    "\n",
    "    end_time = time.time()\n",
    "    print(\"平行運算時間: \", end_time - start_time)\n",
    "\n",
    "# if __name__ == \"__main__\":\n",
    "main()"
   ]
  },
  {
   "cell_type": "code",
   "execution_count": null,
   "id": "04f387fe-7e58-4937-8da3-dd9eb12bfc85",
   "metadata": {
    "tags": []
   },
   "outputs": [],
   "source": [
    "from joblib import Parallel, delayed\n",
    "import time\n",
    "import os\n",
    "\n",
    "if __name__ == \"__main__\":\n",
    "    # 假設 distances 是已經計算好的距離矩陣\n",
    "    data_list = [distances] * 10\n",
    "\n",
    "    start_time = time.time()\n",
    "\n",
    "    # 使用 joblib 進行平行運算\n",
    "    results = Parallel(n_jobs=10)(delayed(compute_persistence)(data) for data in data_list)\n",
    "\n",
    "    end_time = time.time()\n",
    "    print(\"平行運算時間: \", end_time - start_time)"
   ]
  }
 ],
 "metadata": {
  "kernelspec": {
   "display_name": "Python 3 (ipykernel)",
   "language": "python",
   "name": "python3"
  },
  "language_info": {
   "codemirror_mode": {
    "name": "ipython",
    "version": 3
   },
   "file_extension": ".py",
   "mimetype": "text/x-python",
   "name": "python",
   "nbconvert_exporter": "python",
   "pygments_lexer": "ipython3",
   "version": "3.10.6"
  }
 },
 "nbformat": 4,
 "nbformat_minor": 5
}
