{
 "cells": [
  {
   "cell_type": "code",
   "execution_count": 103,
   "id": "a555c599-8199-41b4-9104-d0a484cad237",
   "metadata": {},
   "outputs": [],
   "source": [
    "import numpy as np\n",
    "import pandas as pd\n",
    "import matplotlib.pyplot as plt\n",
    "from itertools import combinations\n",
    "\n",
    "from sklearn import svm\n",
    "from sklearn import metrics\n",
    "from sklearn import datasets\n",
    "from sklearn.decomposition import PCA\n",
    "from sklearn.model_selection import train_test_split\n",
    "\n",
    "import gudhi as gd\n",
    "from ripser import Rips\n",
    "from persim.landscapes import PersistenceLandscaper"
   ]
  },
  {
   "cell_type": "code",
   "execution_count": 3,
   "id": "f9b4bc4a-cdf5-4343-ae97-5c3f4c254334",
   "metadata": {},
   "outputs": [],
   "source": [
    "iris = datasets.load_iris()\n",
    "X = pd.DataFrame(iris.data, columns = iris.feature_names)\n",
    "y = iris['target']"
   ]
  },
  {
   "cell_type": "code",
   "execution_count": 120,
   "id": "ca21d96b",
   "metadata": {},
   "outputs": [
    {
     "data": {
      "text/plain": [
       "True"
      ]
     },
     "execution_count": 120,
     "metadata": {},
     "output_type": "execute_result"
    }
   ],
   "source": [
    "X_setosa = X[y == 0]\n",
    "X_versicolor = X[y == 1]\n",
    "X_virginica = X[y == 2]\n",
    "\n",
    "X_setosa.shape[0] + X_versicolor.shape[0] + X_virginica.shape[0] == X.shape[0]"
   ]
  },
  {
   "cell_type": "code",
   "execution_count": 92,
   "id": "230545c2",
   "metadata": {},
   "outputs": [],
   "source": [
    "twof_setosa = [X_setosa[list(comb)] for comb in list(combinations(X.columns, 2))]\n",
    "threef_setosa = [X_setosa[list(comb)] for comb in list(combinations(X.columns, 3))]\n",
    "fourf_setosa = [X_setosa[list(comb)] for comb in list(combinations(X.columns, 4))]\n",
    "\n",
    "twof_versicolor = [X_versicolor[list(comb)] for comb in list(combinations(X.columns, 2))]\n",
    "threef_versicolor = [X_versicolor[list(comb)] for comb in list(combinations(X.columns, 3))]\n",
    "fourf_versicolor = [X_versicolor[list(comb)] for comb in list(combinations(X.columns, 4))]\n",
    "\n",
    "twof_virginica = [X_virginica[list(comb)] for comb in list(combinations(X.columns, 2))]\n",
    "threef_virginica = [X_virginica[list(comb)] for comb in list(combinations(X.columns, 3))]\n",
    "fourf_virginica = [X_virginica[list(comb)] for comb in list(combinations(X.columns, 4))]"
   ]
  },
  {
   "cell_type": "code",
   "execution_count": 76,
   "id": "4e839211",
   "metadata": {},
   "outputs": [],
   "source": [
    "def get_landscape(two_feature_dfs, three_feature_dfs, four_feature_dfs):\n",
    "    landscapes = []\n",
    "    rips = Rips(maxdim = 2)\n",
    "\n",
    "    for f in range(len(two_feature_dfs)):\n",
    "        dgm = rips.fit_transform(two_feature_dfs[f])\n",
    "        landscaper = PersistenceLandscaper(hom_deg=1, start=0, stop=2.0, num_steps=500, flatten=True)\n",
    "        flat = landscaper.fit_transform(dgm)\n",
    "        landscapes.append(flat)\n",
    "\n",
    "    for f in range(len(three_feature_dfs)):\n",
    "        dgm = rips.fit_transform(three_feature_dfs[f])\n",
    "        landscaper = PersistenceLandscaper(hom_deg=1, start=0, stop=2.0, num_steps=500, flatten=True)\n",
    "        flat = landscaper.fit_transform(dgm)\n",
    "        landscapes.append(flat)\n",
    "\n",
    "    for f in range(len(four_feature_dfs)):\n",
    "        dgm = rips.fit_transform(four_feature_dfs[f])\n",
    "        landscaper = PersistenceLandscaper(hom_deg=1, start=0, stop=2.0, num_steps=500, flatten=True)\n",
    "        flat = landscaper.fit_transform(dgm)\n",
    "        landscapes.append(flat)\n",
    "    \n",
    "    return landscapes"
   ]
  },
  {
   "cell_type": "code",
   "execution_count": 155,
   "id": "b1cc3e1b",
   "metadata": {},
   "outputs": [
    {
     "name": "stdout",
     "output_type": "stream",
     "text": [
      "Rips(maxdim=2, thresh=inf, coeff=2, do_cocycles=False, n_perm = None, verbose=True)\n",
      "Rips(maxdim=2, thresh=inf, coeff=2, do_cocycles=False, n_perm = None, verbose=True)\n",
      "Rips(maxdim=2, thresh=inf, coeff=2, do_cocycles=False, n_perm = None, verbose=True)\n"
     ]
    },
    {
     "data": {
      "text/plain": [
       "True"
      ]
     },
     "execution_count": 155,
     "metadata": {},
     "output_type": "execute_result"
    }
   ],
   "source": [
    "setosa_landscape = get_landscape(twof_setosa, threef_setosa, fourf_setosa)\n",
    "versicolor_landscape = get_landscape(twof_versicolor, threef_versicolor, fourf_versicolor)\n",
    "virginica_landscape = get_landscape(twof_virginica, threef_virginica, fourf_virginica)\n",
    "\n",
    "len(versicolor_landscape) == 6 + 4 + 1"
   ]
  },
  {
   "cell_type": "code",
   "execution_count": 171,
   "id": "7d27e0f5",
   "metadata": {},
   "outputs": [],
   "source": [
    "def populate(landscapes):\n",
    "    u = np.max([len(a) for a in landscapes])\n",
    "    ls = np.zeros((11, u))\n",
    "\n",
    "    for i in range(len(landscapes)):\n",
    "        ls[i, 0:len(landscapes[i])] = landscapes[i]\n",
    "\n",
    "    pca_iris = PCA(n_components=3)\n",
    "    ls_transformed = pca_iris.fit_transform(ls)\n",
    "\n",
    "    # return ls, comp_iris\n",
    "    return ls, ls_transformed\n",
    "\n",
    "setosa_ls, comp_setosa = populate(setosa_landscape)\n",
    "versicolor_ls, comp_versicolor = populate(versicolor_landscape)\n",
    "virginica_ls, comp_virginica = populate(virginica_landscape)"
   ]
  },
  {
   "attachments": {},
   "cell_type": "markdown",
   "id": "0a7f6b0d",
   "metadata": {},
   "source": [
    "1. There are 11 rows in total, and each row represent the persistence diagram of each arrangement, which is 6 + 4 + 1\n",
    "2. 14500 is the max range of the landscape,"
   ]
  },
  {
   "cell_type": "code",
   "execution_count": 172,
   "id": "5c16dca4",
   "metadata": {},
   "outputs": [
    {
     "name": "stdout",
     "output_type": "stream",
     "text": [
      "(11, 14500)\n",
      "(11, 8500)\n",
      "(11, 9000)\n"
     ]
    }
   ],
   "source": [
    "print(setosa_ls.shape)\n",
    "print(versicolor_ls.shape)\n",
    "print(virginica_ls.shape)"
   ]
  },
  {
   "cell_type": "code",
   "execution_count": 173,
   "id": "54c50fd9",
   "metadata": {},
   "outputs": [
    {
     "name": "stdout",
     "output_type": "stream",
     "text": [
      "(11, 3)\n",
      "(11, 3)\n",
      "(11, 3)\n"
     ]
    }
   ],
   "source": [
    "print(comp_setosa.shape)\n",
    "print(comp_versicolor.shape)\n",
    "print(comp_virginica.shape)"
   ]
  },
  {
   "cell_type": "code",
   "execution_count": 174,
   "id": "adf7b33d",
   "metadata": {},
   "outputs": [
    {
     "data": {
      "text/plain": [
       "<matplotlib.legend.Legend at 0x13b18a9d0>"
      ]
     },
     "execution_count": 174,
     "metadata": {},
     "output_type": "execute_result"
    },
    {
     "data": {
      "image/png": "[encoded data removed]",
      "text/plain": [
       "<Figure size 640x480 with 1 Axes>"
      ]
     },
     "metadata": {},
     "output_type": "display_data"
    }
   ],
   "source": [
    "plt.figure()\n",
    "plt.scatter(comp_setosa[0], comp_setosa[1], label='setosa', alpha=0.5)\n",
    "plt.scatter(comp_versicolor[0], comp_versicolor[1], label='versicolor', alpha=0.5)\n",
    "plt.scatter(comp_virginica[0], comp_virginica[1], label='virginica', alpha=0.5)\n",
    "plt.xlabel('Principal Component 1')\n",
    "plt.ylabel('Principal Component 2')\n",
    "plt.legend()"
   ]
  },
  {
   "cell_type": "code",
   "execution_count": 175,
   "id": "156c2d11",
   "metadata": {},
   "outputs": [],
   "source": [
    "# Produce lists of points\n",
    "pts_setosa = [[comp_setosa[0,i], comp_setosa[1,i]] for i in range(len(comp_setosa[0]))]\n",
    "pts_versicolor = [[comp_versicolor[0,i], comp_versicolor[1,i]] for i in range(len(comp_versicolor[0]))]\n",
    "pts_virginica = [[comp_virginica[0,i], comp_virginica[1,i]] for i in range(len(comp_virginica[0]))]\n",
    "\n",
    "# Instantiate indicator functions\n",
    "chi_setosa = np.zeros(len(pts_setosa))\n",
    "chi_versicolor = np.ones(len(pts_versicolor))\n",
    "chi_virginica = np.full(len(pts_virginica), 2)\n",
    "\n",
    "# Produce final list of points\n",
    "pts = []\n",
    "\n",
    "for p in pts_setosa:\n",
    "    pts.append(p)\n",
    "for p in pts_versicolor:\n",
    "    pts.append(p)\n",
    "for p in pts_virginica:\n",
    "    pts.append(p)\n",
    "\n",
    "pts = np.array(pts)\n",
    "\n",
    "# Append indicator functions\n",
    "chi = np.hstack((chi_setosa, chi_versicolor, chi_virginica))"
   ]
  },
  {
   "cell_type": "code",
   "execution_count": 176,
   "id": "dd8d5593",
   "metadata": {},
   "outputs": [
    {
     "name": "stdout",
     "output_type": "stream",
     "text": [
      "(7, 2)\n",
      "(7,)\n"
     ]
    }
   ],
   "source": [
    "# Split points and indicator arrays\n",
    "P_train, P_test, c_train, c_test = train_test_split(pts, chi, train_size=.8)\n",
    "\n",
    "print(P_train.shape)\n",
    "print(c_train.shape)"
   ]
  },
  {
   "cell_type": "code",
   "execution_count": 177,
   "id": "7a382285",
   "metadata": {},
   "outputs": [
    {
     "name": "stdout",
     "output_type": "stream",
     "text": [
      "Model accuracy: 0.00\n"
     ]
    }
   ],
   "source": [
    "# Instantiate support vector classifier\n",
    "clf = svm.SVC()\n",
    "\n",
    "# Fit model\n",
    "clf.fit(P_train, c_train)\n",
    "\n",
    "# Evaluate model performance using accuracy between ground truth data and predicted data\n",
    "print(f'Model accuracy: {metrics.accuracy_score(c_test, clf.predict(P_test)):.2f}')"
   ]
  }
 ],
 "metadata": {
  "kernelspec": {
   "display_name": "Python 3 (ipykernel)",
   "language": "python",
   "name": "python3"
  },
  "language_info": {
   "codemirror_mode": {
    "name": "ipython",
    "version": 3
   },
   "file_extension": ".py",
   "mimetype": "text/x-python",
   "name": "python",
   "nbconvert_exporter": "python",
   "pygments_lexer": "ipython3",
   "version": "3.9.13"
  }
 },
 "nbformat": 4,
 "nbformat_minor": 5
}
