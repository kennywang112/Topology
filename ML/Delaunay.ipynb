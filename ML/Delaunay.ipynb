{
 "cells": [
  {
   "cell_type": "code",
   "execution_count": 50,
   "id": "1638178e-58d7-44cd-9546-94398b20a35b",
   "metadata": {},
   "outputs": [
    {
     "name": "stdout",
     "output_type": "stream",
     "text": [
      "Collecting cgal\n",
      "  Downloading cgal-6.0.post202410021207-cp310-cp310-macosx_10_13_x86_64.whl.metadata (1.3 kB)\n",
      "Requirement already satisfied: numpy in /Library/Frameworks/Python.framework/Versions/3.10/lib/python3.10/site-packages (from cgal) (1.26.4)\n",
      "Downloading cgal-6.0.post202410021207-cp310-cp310-macosx_10_13_x86_64.whl (11.4 MB)\n",
      "\u001b[2K   \u001b[90m━━━━━━━━━━━━━━━━━━━━━━━━━━━━━━━━━━━━━━━━\u001b[0m \u001b[32m11.4/11.4 MB\u001b[0m \u001b[31m3.9 MB/s\u001b[0m eta \u001b[36m0:00:00\u001b[0ma \u001b[36m0:00:01\u001b[0m\n",
      "\u001b[?25hInstalling collected packages: cgal\n",
      "Successfully installed cgal-6.0.post202410021207\n",
      "Note: you may need to restart the kernel to use updated packages.\n"
     ]
    }
   ],
   "source": [
    "pip install cgal"
   ]
  },
  {
   "cell_type": "code",
   "execution_count": 5,
   "id": "04f88082-a41d-4343-9364-6bd37a549627",
   "metadata": {},
   "outputs": [],
   "source": [
    "from CGAL.CGAL_Kernel import Point_2\n",
    "from CGAL.CGAL_Triangulation_2 import Delaunay_triangulation_2\n",
    "import gudhi as gd\n",
    "import matplotlib.pyplot as plt\n",
    "import time\n",
    "import gc\n",
    "import numpy as np\n",
    "from joblib import Parallel, delayed\n",
    "from CGAL.CGAL_Alpha_shape_2 import Alpha_shape_2"
   ]
  },
  {
   "cell_type": "code",
   "execution_count": 196,
   "id": "62c09d26-a068-4ffc-b064-af1e56edb4e3",
   "metadata": {},
   "outputs": [
    {
     "name": "stdout",
     "output_type": "stream",
     "text": [
      "Initial triangulation:\n",
      "Number of vertices: 3\n",
      "Triangle: [(0.0, 0.0), (1.0, 0.0), (0.0, 1.0)]\n"
     ]
    }
   ],
   "source": [
    "dt = Delaunay_triangulation_2()\n",
    "\n",
    "initial_points = [Point_2(0, 0), Point_2(1, 0), Point_2(0, 1)]\n",
    "for point in initial_points:\n",
    "    dt.insert(point)\n",
    "    \n",
    "print(\"Initial triangulation:\")\n",
    "print(\"Number of vertices:\", dt.number_of_vertices())\n",
    "for face in dt.finite_faces():\n",
    "    # 獲取三角形的三個頂點\n",
    "    vertices = [face.vertex(i) for i in range(3)]\n",
    "    print(\"Triangle:\", [(v.point().x(), v.point().y()) for v in vertices])"
   ]
  },
  {
   "cell_type": "code",
   "execution_count": 197,
   "id": "6591ee9b-8529-4208-a5db-b2dff0ae55fb",
   "metadata": {},
   "outputs": [
    {
     "name": "stdout",
     "output_type": "stream",
     "text": [
      "\n",
      "Updated triangulation after adding new point (0.5, 0.5):\n",
      "Number of vertices: 4\n",
      "Triangle: [(0.0, 0.0), (1.0, 0.0), (0.5, 0.5)]\n",
      "Triangle: [(0.0, 0.0), (0.5, 0.5), (0.0, 1.0)]\n",
      "\n",
      "Updated triangulation after adding new point (0.5, 0.5):\n",
      "Number of vertices: 3\n",
      "Triangle: [(0.0, 0.0), (1.0, 0.0), (0.0, 1.0)]\n"
     ]
    }
   ],
   "source": [
    "new_point = Point_2(0.5, 0.5)\n",
    "vh = dt.insert(new_point)\n",
    "\n",
    "print(\"\\nUpdated triangulation after adding new point (0.5, 0.5):\")\n",
    "print(\"Number of vertices:\", dt.number_of_vertices())\n",
    "for face in dt.finite_faces():\n",
    "    vertices = [face.vertex(i) for i in range(3)]\n",
    "    print(\"Triangle:\", [(v.point().x(), v.point().y()) for v in vertices])\n",
    "    \n",
    "dt.remove(vh)\n",
    "\n",
    "print(\"\\nUpdated triangulation after adding new point (0.5, 0.5):\")\n",
    "print(\"Number of vertices:\", dt.number_of_vertices())\n",
    "for face in dt.finite_faces():\n",
    "    vertices = [face.vertex(i) for i in range(3)]\n",
    "    print(\"Triangle:\", [(v.point().x(), v.point().y()) for v in vertices])"
   ]
  },
  {
   "cell_type": "code",
   "execution_count": 10,
   "id": "9936e8dd-7124-4710-b065-ccc1527b7300",
   "metadata": {
    "tags": []
   },
   "outputs": [],
   "source": [
    "from CGAL.CGAL_Kernel import Point_2\n",
    "from CGAL.CGAL_Triangulation_2 import Delaunay_triangulation_2\n",
    "from CGAL.CGAL_Alpha_shape_2 import Alpha_shape_2, GENERAL\n",
    "import gudhi as gd\n",
    "import matplotlib.pyplot as plt\n",
    "\n",
    "class IncrementalAlphaComplex:\n",
    "    def __init__(self, alpha=0.1):\n",
    "        self.alpha_value = alpha\n",
    "        self.points = []  # 保存所有的點\n",
    "        self.dt = Delaunay_triangulation_2()\n",
    "        self.simplex_tree = gd.SimplexTree()\n",
    "        self.alpha_shape = None\n",
    "        self.barcode_values = []  # 保存持久條形碼的增量更新\n",
    "\n",
    "    def init_alpha_complex(self):\n",
    "        \"\"\"初始化 alpha complex\"\"\"\n",
    "        self.alpha_shape = Alpha_shape_2(self.points, self.alpha_value, GENERAL)\n",
    "        self.simplex_tree = gd.SimplexTree()\n",
    "        self._add_alpha_shape_edges_and_faces()\n",
    "\n",
    "    def _get_point_index(self, vertex_handle):\n",
    "        \"\"\"返回 vertex_handle 對應的索引\"\"\"\n",
    "        vertex_point = vertex_handle.point()\n",
    "        for i, point in enumerate(self.points):\n",
    "            if point.x() == vertex_point.x() and point.y() == vertex_point.y():\n",
    "                return i\n",
    "        return None\n",
    "\n",
    "    def _add_alpha_shape_edges_and_faces(self):\n",
    "        \"\"\"將 alpha shape 中的邊和面插入到 SimplexTree 中\"\"\"\n",
    "        inserted_edges = set()\n",
    "        inserted_faces = set()\n",
    "\n",
    "        for edge in self.alpha_shape.alpha_shape_edges():\n",
    "            try:\n",
    "                v0, v1 = edge[0].vertex(0), edge[0].vertex(1)\n",
    "                idx0 = self._get_point_index(v0)\n",
    "                idx1 = self._get_point_index(v1)\n",
    "                if idx0 is not None and idx1 is not None:\n",
    "                    edge_tuple = tuple(sorted([idx0, idx1]))\n",
    "                    if edge_tuple not in inserted_edges:\n",
    "                        self.simplex_tree.insert([idx0, idx1])\n",
    "                        inserted_edges.add(edge_tuple)\n",
    "            except Exception as e:\n",
    "                print(\"Error inserting edge:\", e)\n",
    "\n",
    "        for face in self.alpha_shape.finite_faces():\n",
    "            try:\n",
    "                v0, v1, v2 = face.vertex(0), face.vertex(1), face.vertex(2)\n",
    "                idx0 = self._get_point_index(v0)\n",
    "                idx1 = self._get_point_index(v1)\n",
    "                idx2 = self._get_point_index(v2)\n",
    "                if None not in (idx0, idx1, idx2):\n",
    "                    face_tuple = tuple(sorted([idx0, idx1, idx2]))\n",
    "                    if face_tuple not in inserted_faces:\n",
    "                        self.simplex_tree.insert([idx0, idx1, idx2])\n",
    "                        inserted_faces.add(face_tuple)\n",
    "            except Exception as e:\n",
    "                print(\"Error inserting face:\", e)\n",
    "\n",
    "    def add_point(self, x, y):\n",
    "        \"\"\"增量插入新點並局部更新 alpha complex 和條形碼\"\"\"\n",
    "        new_point = Point_2(x, y)\n",
    "        self.dt.insert(new_point)\n",
    "        self.points.append(new_point)\n",
    "\n",
    "        # 更新 alpha_shape 並插入新邊和新面\n",
    "        self.alpha_shape = Alpha_shape_2(self.points, self.alpha_value, GENERAL)\n",
    "        self._add_alpha_shape_edges_and_faces()\n",
    "        # 增量計算持久條形碼\n",
    "        self.update_barcode()\n",
    "\n",
    "    def remove_point(self, x, y):\n",
    "        \"\"\"增量刪除點並局部更新 alpha complex 和條形碼\"\"\"\n",
    "        point_to_remove = self.dt.nearest_vertex(Point_2(x, y))\n",
    "        if point_to_remove:\n",
    "            self.dt.remove(point_to_remove)\n",
    "            self.points.remove(point_to_remove.point())\n",
    "\n",
    "            # 更新 alpha_shape 並插入受影響的邊和面\n",
    "            self.alpha_shape = Alpha_shape_2(self.points, self.alpha_value, GENERAL)\n",
    "            self._add_alpha_shape_edges_and_faces()\n",
    "            # 增量計算持久條形碼\n",
    "            self.update_barcode()\n",
    "\n",
    "    def update_barcode(self):\n",
    "        \"\"\"增量更新條形碼\"\"\"\n",
    "        self.simplex_tree.compute_persistence()\n",
    "        barcode = self.simplex_tree.persistence()\n",
    "        self.barcode_values = [\n",
    "            (homology, birth, death)\n",
    "            for homology, (birth, death) in barcode\n",
    "            if death - birth > 0  # 只包含持久的特徵\n",
    "        ]\n",
    "        for homology, birth, death in self.barcode_values:\n",
    "            print(f\"H{homology}: 出生時間 = {birth}, 死亡時間 = {death}\")\n",
    "\n",
    "    def plot_barcode(self):\n",
    "        \"\"\"視覺化持久條形碼\"\"\"\n",
    "        # 重新格式化條形碼數據以符合 gudhi 的 plot_persistence_barcode 格式\n",
    "        barcode_formatted = [(homology, (birth, death)) for homology, birth, death in self.barcode_values]\n",
    "        gd.plot_persistence_barcode(barcode_formatted)\n",
    "        plt.show()"
   ]
  },
  {
   "cell_type": "code",
   "execution_count": 11,
   "id": "e7440040-b382-4ede-8d8c-ea9f171d6ddc",
   "metadata": {
    "collapsed": true,
    "jupyter": {
     "outputs_hidden": true
    },
    "tags": []
   },
   "outputs": [
    {
     "name": "stdout",
     "output_type": "stream",
     "text": [
      "H0: 出生時間 = 0.0, 死亡時間 = inf\n",
      "H0: 出生時間 = 0.0, 死亡時間 = inf\n",
      "H0: 出生時間 = 0.0, 死亡時間 = inf\n",
      "Initial persistent barcode:\n",
      "H0: 出生時間 = 0.0, 死亡時間 = inf\n"
     ]
    },
    {
     "data": {
      "image/png": "[encoded data removed]",
      "text/plain": [
       "<Figure size 432x288 with 1 Axes>"
      ]
     },
     "metadata": {
      "needs_background": "light"
     },
     "output_type": "display_data"
    },
    {
     "name": "stdout",
     "output_type": "stream",
     "text": [
      "\n",
      "After adding a new point (5, 5):\n",
      "H0: 出生時間 = 0.0, 死亡時間 = inf\n",
      "H0: 出生時間 = 0.0, 死亡時間 = inf\n"
     ]
    },
    {
     "data": {
      "image/png": "[encoded data removed]",
      "text/plain": [
       "<Figure size 432x288 with 1 Axes>"
      ]
     },
     "metadata": {
      "needs_background": "light"
     },
     "output_type": "display_data"
    },
    {
     "name": "stdout",
     "output_type": "stream",
     "text": [
      "\n",
      "After removing a point (1, 1):\n",
      "H0: 出生時間 = 0.0, 死亡時間 = inf\n",
      "H0: 出生時間 = 0.0, 死亡時間 = inf\n"
     ]
    },
    {
     "data": {
      "image/png": "[encoded data removed]",
      "text/plain": [
       "<Figure size 432x288 with 1 Axes>"
      ]
     },
     "metadata": {
      "needs_background": "light"
     },
     "output_type": "display_data"
    }
   ],
   "source": [
    "# 創建 IncrementalAlphaComplex 物件，並設置 alpha 參數\n",
    "alpha_complex = IncrementalAlphaComplex(alpha=0.5)\n",
    "\n",
    "# 增量插入點\n",
    "alpha_complex.add_point(1, 1)\n",
    "alpha_complex.add_point(2, 2)\n",
    "alpha_complex.add_point(4, 4)\n",
    "alpha_complex.add_point(1, 4)\n",
    "alpha_complex.add_point(3, 1)\n",
    "alpha_complex.add_point(3, 3)\n",
    "\n",
    "# 觀察初始持久條形碼\n",
    "print(\"Initial persistent barcode:\")\n",
    "alpha_complex.update_barcode()\n",
    "alpha_complex.plot_barcode()\n",
    "\n",
    "# 增量插入新點，並觀察持久條形碼的變化\n",
    "print(\"\\nAfter adding a new point (5, 5):\")\n",
    "alpha_complex.add_point(5, 5)\n",
    "alpha_complex.update_barcode()\n",
    "alpha_complex.plot_barcode()\n",
    "\n",
    "# 增量刪除點，並觀察持久條形碼的變化\n",
    "print(\"\\nAfter removing a point (1, 1):\")\n",
    "alpha_complex.remove_point(1, 1)\n",
    "alpha_complex.update_barcode()\n",
    "alpha_complex.plot_barcode()"
   ]
  },
  {
   "cell_type": "code",
   "execution_count": 13,
   "id": "a7568ca9-8c87-4bf6-a4dc-7c37d308296d",
   "metadata": {},
   "outputs": [],
   "source": [
    "def update_alpha_complex(triangulation, alpha_value, new_points=[], removed_points=[]):\n",
    "    # 插入新點\n",
    "    for point in new_points:\n",
    "        triangulation.insert(point)\n",
    "    \n",
    "    # 移除指定的點\n",
    "    for point in removed_points:\n",
    "        triangulation.remove(point)\n",
    "\n",
    "    # 更新 α-complex\n",
    "    updated_alpha_complex = []\n",
    "    for simplex in triangulation.finite_cells():\n",
    "        if simplex.circumradius() <= alpha_value:\n",
    "            updated_alpha_complex.append(simplex)\n",
    "    \n",
    "    return updated_alpha_complex"
   ]
  },
  {
   "cell_type": "code",
   "execution_count": 26,
   "id": "c6369262-a7e0-45df-b6fe-1d9fd3732494",
   "metadata": {},
   "outputs": [
    {
     "name": "stdout",
     "output_type": "stream",
     "text": [
      "Number of vertices: 4\n",
      "1 56 2 334\n",
      "1 3 1 3\n",
      "1 1 1 34\n",
      "1 1 33 4\n"
     ]
    }
   ],
   "source": [
    "print(\"Number of vertices:\", triangulation.number_of_vertices())\n",
    "for vertex in triangulation.finite_vertices():\n",
    "    print(vertex.point())"
   ]
  },
  {
   "cell_type": "code",
   "execution_count": null,
   "id": "62a1519d-58bb-437d-8761-9b174ac08e1d",
   "metadata": {},
   "outputs": [],
   "source": [
    "import math\n",
    "from CGAL.CGAL_Kernel import Point_3, Weighted_point_3\n",
    "from CGAL.CGAL_Triangulation_3 import Regular_triangulation_3"
   ]
  },
  {
   "cell_type": "code",
   "execution_count": 43,
   "id": "99078235-6b21-486a-8d59-af9707cb6eed",
   "metadata": {},
   "outputs": [],
   "source": [
    "# 計算四面體的外接球半徑\n",
    "def calculate_circumradius(cell):\n",
    "    vertices = [cell.vertex(i).point() for i in range(4)]\n",
    "    max_distance = 0\n",
    "    for i in range(3):\n",
    "        for j in range(i + 1, 4):\n",
    "            # 歐式\n",
    "            distance = math.sqrt(\n",
    "                (vertices[i].x() - vertices[j].x()) ** 2 +\n",
    "                (vertices[i].y() - vertices[j].y()) ** 2 +\n",
    "                (vertices[i].z() - vertices[j].z()) ** 2\n",
    "            )\n",
    "            max_distance = max(max_distance, distance)\n",
    "    return max_distance / 2 # 球半徑\n",
    "\n",
    "# alpha complex from alpha value\n",
    "def update_alpha_complex(triangulation, alpha_value, new_points=[], removed_points=[]):\n",
    "    # local update\n",
    "    for point in new_points:\n",
    "        triangulation.insert(point)\n",
    "    for point in removed_points:\n",
    "        triangulation.remove(point)\n",
    "\n",
    "    # update alpha complex\n",
    "    updated_alpha_complex = []\n",
    "    for cell in triangulation.finite_cells():\n",
    "        if calculate_circumradius(cell) <= alpha_value:\n",
    "            updated_alpha_complex.append(cell)\n",
    "    \n",
    "    return updated_alpha_complex"
   ]
  },
  {
   "cell_type": "code",
   "execution_count": 58,
   "id": "50dd96c7-b9a9-476c-bf3a-def674fee1d6",
   "metadata": {},
   "outputs": [
    {
     "name": "stdout",
     "output_type": "stream",
     "text": [
      "Persistent pairs: [(35, 50), (15.0, 50), (20, 50), (35, 50), (30, 50), (20, 50)]\n"
     ]
    }
   ],
   "source": [
    "# 創建三角剖分物件\n",
    "triangulation = Regular_triangulation_3()\n",
    "\n",
    "# 插入點集 (包括權重)\n",
    "points = [\n",
    "    Weighted_point_3(Point_3(1, 1, 1), 1),\n",
    "    Weighted_point_3(Point_3(1, 56, 2), 1),\n",
    "    Weighted_point_3(Point_3(1, 3, 1), 1),\n",
    "    Weighted_point_3(Point_3(1, 1, 33), 1),\n",
    "    Weighted_point_3(Point_3(10, 10, 10), 1),\n",
    "    Weighted_point_3(Point_3(20, 5, 15), 1),\n",
    "]\n",
    "\n",
    "triangulation.insert(points)\n",
    "\n",
    "\n",
    "persistent_pairs = [] \n",
    "feature_births = {}  # alpha value\n",
    "previous_features = set()\n",
    "\n",
    "alpha_steps = [0.1, 1.0, 5.0, 10.0, 15.0, 20, 25, 30, 35, 40, 45, 50]\n",
    "for alpha in alpha_steps:\n",
    "    alpha_complex = update_alpha_complex(triangulation, alpha)\n",
    "    current_features = set(alpha_complex)  # 將當前 α 值的特徵存入集合\n",
    "\n",
    "    # check new birth feature\n",
    "    new_features = current_features - previous_features\n",
    "    for feature in new_features:\n",
    "        feature_births[feature] = alpha  # 新特徵的出生 α 值\n",
    "\n",
    "    # check death feature\n",
    "    disappearing_features = previous_features - current_features\n",
    "    for feature in disappearing_features:\n",
    "        birth = feature_births.pop(feature)\n",
    "        death = alpha\n",
    "        persistent_pairs.append((birth, death))\n",
    "        \n",
    "    previous_features = current_features\n",
    "\n",
    "# 處理最後一層 α 值中仍然存在的特徵\n",
    "for feature in previous_features:\n",
    "    birth = feature_births[feature]\n",
    "    death = alpha_steps[-1]  # 最大 α 值作為死亡值\n",
    "    persistent_pairs.append((birth, death))\n",
    "\n",
    "# 輸出結果\n",
    "print(\"Persistent pairs:\", persistent_pairs)\n"
   ]
  }
 ],
 "metadata": {
  "kernelspec": {
   "display_name": "Python 3 (ipykernel)",
   "language": "python",
   "name": "python3"
  },
  "language_info": {
   "codemirror_mode": {
    "name": "ipython",
    "version": 3
   },
   "file_extension": ".py",
   "mimetype": "text/x-python",
   "name": "python",
   "nbconvert_exporter": "python",
   "pygments_lexer": "ipython3",
   "version": "3.9.12"
  }
 },
 "nbformat": 4,
 "nbformat_minor": 5
}
