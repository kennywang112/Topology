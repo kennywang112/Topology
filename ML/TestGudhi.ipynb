{
 "cells": [
  {
   "cell_type": "code",
   "execution_count": 1,
   "id": "c062dac3-e466-42ca-aca5-4ef731b20ee2",
   "metadata": {},
   "outputs": [],
   "source": [
    "import numpy as np\n",
    "import pickle as pickle\n",
    "import gudhi as gd \n",
    "import gudhi.representations\n",
    "from pylab import *\n",
    "from mpl_toolkits.mplot3d import Axes3D\n",
    "from sklearn.metrics import pairwise_distances\n",
    "import random as rd\n",
    "from sklearn.manifold import MDS\n",
    "rd.seed(1)"
   ]
  },
  {
   "cell_type": "code",
   "execution_count": 2,
   "id": "7bce0585-dd80-4d67-8de5-db8ba23fe06d",
   "metadata": {},
   "outputs": [],
   "source": [
    "X = np.random.rand(100000, 2)\n",
    "# D = pairwise_distances(X, metric='euclidean')"
   ]
  },
  {
   "cell_type": "code",
   "execution_count": 12,
   "id": "8b3caf14-2ef9-4d79-a96b-3458481727bf",
   "metadata": {},
   "outputs": [],
   "source": [
    "# embedding = MDS(n_components = 2, dissimilarity = 'precomputed')\n",
    "# X_transformed = embedding.fit_transform(D)\n",
    "# X_transformed.shape"
   ]
  },
  {
   "cell_type": "code",
   "execution_count": 3,
   "id": "a1c35691-0f90-46c8-a839-6344fb080e50",
   "metadata": {},
   "outputs": [],
   "source": [
    "alpha_complex = gd.AlphaComplex(points = X)\n",
    "st_alpha = alpha_complex.create_simplex_tree()"
   ]
  },
  {
   "cell_type": "code",
   "execution_count": 18,
   "id": "0a78d95f-88d0-48f5-b1dc-ac9d018efe99",
   "metadata": {},
   "outputs": [
    {
     "name": "stdout",
     "output_type": "stream",
     "text": [
      "2\n",
      "200000\n",
      "1199923\n"
     ]
    }
   ],
   "source": [
    "print(st_alpha.dimension())\n",
    "print(st_alpha.num_vertices())\n",
    "print(st_alpha.num_simplices())"
   ]
  },
  {
   "cell_type": "code",
   "execution_count": 16,
   "id": "676feaf7-cefd-456c-b6f9-50b56f495524",
   "metadata": {},
   "outputs": [
    {
     "data": {
      "text/plain": [
       "1199923"
      ]
     },
     "execution_count": 16,
     "metadata": {},
     "output_type": "execute_result"
    }
   ],
   "source": [
    "alpha_filtration = st_alpha.get_filtration()\n",
    "alpha_list = list(alpha_filtration)\n",
    "# for splx in alpha_list:\n",
    "#     if splx[1] != 0:\n",
    "#         print(splx[1])\n",
    "len(alpha_list)"
   ]
  },
  {
   "cell_type": "code",
   "execution_count": 39,
   "id": "9288bbd8-b433-438c-95b7-0dac95ce990b",
   "metadata": {},
   "outputs": [
    {
     "name": "stdout",
     "output_type": "stream",
     "text": [
      "[[1.04312833]]\n"
     ]
    }
   ],
   "source": [
    "# Remove Infinity\n",
    "remove_infinity = lambda alpha_list: [alpha for alpha in alpha_list if alpha[1] != np.inf]\n",
    "filtered_alpha_list = remove_infinity(alpha_list)\n",
    "\n",
    "# change to numpy\n",
    "dgm = np.array([[0.0, value] for _, value in filtered_alpha_list])\n",
    "\n",
    "# filter persistent = 0\n",
    "dgm_filtered = np.array([bar for bar in dgm if bar[1] - bar[0] != 0])\n",
    "\n",
    "# compute Persistent Entropy\n",
    "PE = gd.representations.Entropy()\n",
    "pe_normal = PE.fit_transform([dgm_filtered])\n",
    "\n",
    "print(pe_normal)"
   ]
  },
  {
   "cell_type": "markdown",
   "id": "a3946f86-de36-475c-a353-86815f823458",
   "metadata": {},
   "source": [
    "### VR complex"
   ]
  },
  {
   "cell_type": "code",
   "execution_count": 28,
   "id": "27d25e95-084d-4f32-9915-ed4f56cbd71c",
   "metadata": {},
   "outputs": [
    {
     "data": {
      "text/plain": [
       "array([[0.        , 0.00047517],\n",
       "       [0.        , 0.00056091],\n",
       "       [0.        , 0.00084734],\n",
       "       ...,\n",
       "       [0.        , 0.03382535],\n",
       "       [0.        , 0.0342047 ],\n",
       "       [0.        ,        inf]])"
      ]
     },
     "execution_count": 28,
     "metadata": {},
     "output_type": "execute_result"
    }
   ],
   "source": [
    "rips = gd.RipsComplex(points=X).create_simplex_tree(max_dimension=0)\n",
    "rips.compute_persistence()\n",
    "dgm = rips.persistence_intervals_in_dimension(0)\n",
    "\n",
    "dgm"
   ]
  },
  {
   "cell_type": "code",
   "execution_count": 30,
   "id": "da0cb822-5e46-4d0c-ac30-5993aaafee52",
   "metadata": {},
   "outputs": [],
   "source": [
    "# gd.plot_persistence_barcode(dgm)"
   ]
  },
  {
   "cell_type": "code",
   "execution_count": 29,
   "id": "797e8c55-0aa8-4359-9a17-bc355d54a9d4",
   "metadata": {},
   "outputs": [
    {
     "data": {
      "text/plain": [
       "[array([[0.        , 0.00047517],\n",
       "        [0.        , 0.00056091],\n",
       "        [0.        , 0.00084734],\n",
       "        ...,\n",
       "        [0.        , 0.03312336],\n",
       "        [0.        , 0.03382535],\n",
       "        [0.        , 0.0342047 ]])]"
      ]
     },
     "execution_count": 29,
     "metadata": {},
     "output_type": "execute_result"
    }
   ],
   "source": [
    "remove_infinity = lambda barcode : np.array([bars for bars in barcode if bars[1]!= np.inf])\n",
    "dgm = list(map(remove_infinity, [dgm]))\n",
    "dgm\n",
    "# PE = gd.representations.Entropy()\n",
    "# pe_normal = PE.fit_transform(dgm)"
   ]
  }
 ],
 "metadata": {
  "kernelspec": {
   "display_name": "Python 3 (ipykernel)",
   "language": "python",
   "name": "python3"
  },
  "language_info": {
   "codemirror_mode": {
    "name": "ipython",
    "version": 3
   },
   "file_extension": ".py",
   "mimetype": "text/x-python",
   "name": "python",
   "nbconvert_exporter": "python",
   "pygments_lexer": "ipython3",
   "version": "3.10.6"
  }
 },
 "nbformat": 4,
 "nbformat_minor": 5
}
