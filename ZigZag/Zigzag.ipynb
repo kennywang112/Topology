{
 "cells": [
  {
   "cell_type": "code",
   "execution_count": 1,
   "id": "5ec3f9f2-a97b-4746-81be-dd1eb586b712",
   "metadata": {},
   "outputs": [],
   "source": [
    "import dionysus as d"
   ]
  },
  {
   "cell_type": "code",
   "execution_count": 5,
   "id": "d1428a20-c4c2-4103-a52c-85875ed24d6d",
   "metadata": {},
   "outputs": [],
   "source": [
    "f = d.Filtration([[0], [1], [0,1], [2], [0,2], [1,2]])\n",
    "times = [[.4, .6, .7], [.1], [.9], [.9], [.9], [.9]]"
   ]
  },
  {
   "cell_type": "code",
   "execution_count": 6,
   "id": "ad943bfc-9471-4c1f-9a7d-f95f21eb530a",
   "metadata": {},
   "outputs": [],
   "source": [
    "zz, dgms, cells = d.zigzag_homology_persistence(f, times)"
   ]
  },
  {
   "cell_type": "markdown",
   "id": "fa6389e3-22b3-487b-b2b2-990aac690858",
   "metadata": {},
   "source": [
    "## cycles still alive in the right-most homology group in the sequence"
   ]
  },
  {
   "cell_type": "code",
   "execution_count": 8,
   "id": "7a3ec72c-debc-4996-9257-b3b877684fb2",
   "metadata": {},
   "outputs": [
    {
     "name": "stdout",
     "output_type": "stream",
     "text": [
      "Zigzag persistence with 2 alive cycles\n"
     ]
    }
   ],
   "source": [
    "print(zz)"
   ]
  },
  {
   "cell_type": "code",
   "execution_count": 13,
   "id": "cd82eb0e-581b-48e0-9f6f-9c47c9f2153a",
   "metadata": {},
   "outputs": [
    {
     "name": "stdout",
     "output_type": "stream",
     "text": [
      "1 * (<1> 0)\n",
      "1 * (<0,1> 0) + 1 * (<0,2> 0) + 1 * (<1,2> 0)\n"
     ]
    }
   ],
   "source": [
    "for z in zz:\n",
    "    print(' + '.join(\"%d * (%s)\" % (x.element, f[cells[x.index]]) for x in z))"
   ]
  },
  {
   "cell_type": "markdown",
   "id": "5181e3a8-6527-486b-8382-138bc8cd45b9",
   "metadata": {},
   "source": [
    "## persistence diagrams that represent the decomposition of the sequence"
   ]
  },
  {
   "cell_type": "code",
   "execution_count": 18,
   "id": "96118049-2ba9-44ad-b74e-9eecf46f337b",
   "metadata": {},
   "outputs": [
    {
     "name": "stdout",
     "output_type": "stream",
     "text": [
      "[Diagram with 3 points, Diagram with 1 points]\n"
     ]
    }
   ],
   "source": [
    "print(dgms)"
   ]
  },
  {
   "cell_type": "code",
   "execution_count": 9,
   "id": "6e3ec646-d51b-4687-af31-4042bab01274",
   "metadata": {},
   "outputs": [
    {
     "name": "stdout",
     "output_type": "stream",
     "text": [
      "Dimension: 0\n",
      "(0.4,0.6)\n",
      "(0.7,0.9)\n",
      "(0.1,inf)\n",
      "Dimension: 1\n",
      "(0.9,inf)\n"
     ]
    }
   ],
   "source": [
    "for i,dgm in enumerate(dgms):\n",
    "    print(\"Dimension:\", i)\n",
    "    for p in dgm:\n",
    "        print(p)"
   ]
  },
  {
   "cell_type": "markdown",
   "id": "2a184e46-24d2-4b68-95c0-5b9d374a4d3d",
   "metadata": {},
   "source": [
    "## auxiliary map to translate from internal indices used in the cycles into the indices of the simplices in the Filtration"
   ]
  },
  {
   "cell_type": "code",
   "execution_count": 19,
   "id": "bba445f8-013e-40f0-a63d-908a25f77805",
   "metadata": {},
   "outputs": [
    {
     "name": "stdout",
     "output_type": "stream",
     "text": [
      "<dionysus._dionysus.TimeIndexMap object at 0x111308330>\n"
     ]
    }
   ],
   "source": [
    "print(cells)"
   ]
  },
  {
   "cell_type": "code",
   "execution_count": 12,
   "id": "e675c398-66b0-4a44-8840-9767b95488e6",
   "metadata": {},
   "outputs": [
    {
     "name": "stdout",
     "output_type": "stream",
     "text": [
      "(0, 1)\n",
      "(2, 0)\n",
      "(3, 3)\n",
      "(4, 2)\n",
      "(5, 4)\n",
      "(6, 5)\n"
     ]
    }
   ],
   "source": [
    "for x in sorted(cells):\n",
    "    print(x)"
   ]
  },
  {
   "cell_type": "code",
   "execution_count": 20,
   "id": "78989dc5-f186-4f2a-adda-ea97dfaabe37",
   "metadata": {},
   "outputs": [
    {
     "name": "stdout",
     "output_type": "stream",
     "text": [
      "1 0.10000000149011612 True\n",
      "1*0  ->  1 * (<1> 0)\n",
      "0 0.4000000059604645 True\n",
      "1*0  ->  1 * (<1> 0)\n",
      "1*1  ->  1 * (<0> 0)\n",
      "0 0.6000000238418579 False\n",
      "1*0  ->  1 * (<1> 0)\n",
      "0 0.699999988079071 True\n",
      "1*0  ->  1 * (<1> 0)\n",
      "1*2  ->  1 * (<0> 0)\n",
      "3 0.8999999761581421 True\n",
      "1*0  ->  1 * (<1> 0)\n",
      "1*2  ->  1 * (<0> 0)\n",
      "1*3  ->  1 * (<2> 0)\n",
      "2 0.8999999761581421 True\n",
      "1*0  ->  1 * (<1> 0)\n",
      "1*3  ->  1 * (<2> 0)\n",
      "4 0.8999999761581421 True\n",
      "1*0  ->  1 * (<1> 0)\n",
      "5 0.8999999761581421 True\n",
      "1*0  ->  1 * (<1> 0)\n",
      "1*4 + 1*5 + 1*6  ->  1 * (<0,1> 0) + 1 * (<0,2> 0) + 1 * (<1,2> 0)\n"
     ]
    }
   ],
   "source": [
    "def detail(i,t,d,zz,cells):\n",
    "    print(i,t,d)\n",
    "    for z in zz:\n",
    "        print(z, ' -> ', ' + '.join(\"%d * (%s)\" % (x.element, f[cells[x.index]]) for x in z))\n",
    "\n",
    "zz, dgms, cells = d.zigzag_homology_persistence(f, times, callback = detail)"
   ]
  },
  {
   "cell_type": "code",
   "execution_count": 2,
   "id": "316aa49a-df7a-4c03-bf81-28e4df29cc36",
   "metadata": {},
   "outputs": [
    {
     "data": {
      "image/png": "[encoded data removed]",
      "text/plain": [
       "<Figure size 432x288 with 1 Axes>"
      ]
     },
     "metadata": {
      "needs_background": "light"
     },
     "output_type": "display_data"
    },
    {
     "data": {
      "image/png": "[encoded data removed]",
      "text/plain": [
       "<Figure size 432x288 with 1 Axes>"
      ]
     },
     "metadata": {
      "needs_background": "light"
     },
     "output_type": "display_data"
    }
   ],
   "source": [
    "import matplotlib.pyplot as plt\n",
    "\n",
    "dimension_0_barcodes = [(0.4, 0.6), (0.7, 0.9), (0.1, float('inf'))]\n",
    "dimension_1_barcodes = [(0.9, float('inf'))]\n",
    "\n",
    "def plot_barcodes(barcodes, dimension):\n",
    "    plt.figure(figsize=(6, 4))\n",
    "    for idx, (birth, death) in enumerate(barcodes):\n",
    "        death = death if death != float('inf') else 1.2\n",
    "        plt.plot([birth, death], [idx, idx], 'b-', lw=2)\n",
    "    plt.title(f\"Barcode for Dimension {dimension}\")\n",
    "    plt.xlabel(\"Time\")\n",
    "    plt.ylabel(\"Feature\")\n",
    "    plt.show()\n",
    "\n",
    "plot_barcodes(dimension_0_barcodes, 0)\n",
    "plot_barcodes(dimension_1_barcodes, 1)"
   ]
  }
 ],
 "metadata": {
  "kernelspec": {
   "display_name": "Python 3 (ipykernel)",
   "language": "python",
   "name": "python3"
  },
  "language_info": {
   "codemirror_mode": {
    "name": "ipython",
    "version": 3
   },
   "file_extension": ".py",
   "mimetype": "text/x-python",
   "name": "python",
   "nbconvert_exporter": "python",
   "pygments_lexer": "ipython3",
   "version": "3.9.12"
  }
 },
 "nbformat": 4,
 "nbformat_minor": 5
}
